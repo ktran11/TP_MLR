{
  "cells": [
    {
      "cell_type": "markdown",
      "metadata": {
        "id": "Rd93DORKPA4W"
      },
      "source": [
        "## Détection et classification des logiciels malveillants sur Android\n",
        "\n",
        "source \n",
        "https://asterius.federation.edu.au/csmining.org/cdmc2020/\n",
        "\n",
        "AndMal2020-CDMC : \n",
        "\n",
        "La menace inégalée des logiciels malveillants Android est à l'origine de divers problèmes de sécurité sur Internet. L'industrie des malwares Android devient de plus en plus perturbatrice avec près de 12 000 nouvelles instances de malwares Android chaque jour. La détection des logiciels malveillants Android dans les smartphones est une cible essentielle pour que la cyber-communauté se débarrasse des échantillons de logiciels malveillants menaçants.\n",
        "\n",
        "Les logiciels malveillants Android sont l'une des menaces les plus graves sur Internet, qui a connu une recrudescence sans précédent ces dernières années. C'est un défi ouvert pour les experts en cybersécurité. \n",
        "\n",
        "La base de données considérée dans ce projet contient une liste plus de 31000 logiciels classés en 12 catégories et 191 familles. L'objectif est de proposer et comparer des algorithmes de machine learning pour identifier automatiquement la catégories de chacun des logiciels. \n",
        "\n",
        "Les données sont collectées à partir des fichiers au format Exceutable Linkage Format et recodées de la façon suivante. Les 2000 premiers  octets du fichier sont extraits. Des 0 sont  ajoutés si le fichier n'est pas assez long. Ces chaînes ASCII sont ensuite encodées par un simple code de chiffrement pour supprimer les informations sensibles et transmises à un encodeur base64 pour obtenir des représentations radix-64 lisibles. \n",
        "\n",
        "La catégorie et la famille de chaque logiciel est déterminée par des moteurs antivirus.\n",
        " \n",
        " Chaque ligne du fichier de données correspond donc à un programme excécutable. Les 2493 premières colonnes sont le résultat du chiffrage.  La colonne 2494 est le hash (identifiant). Et les 3 dernières colonnes donnent des informations sur le type de logiciel (famille, malveillant ou non). "
      ]
    },
    {
      "cell_type": "code",
      "execution_count": 8,
      "metadata": {
        "id": "cKSb-yQjPA4d"
      },
      "outputs": [],
      "source": [
        "import matplotlib.pyplot as plt\n",
        "import numpy as np\n",
        "import pandas as pd\n",
        "import seaborn as sns\n",
        "\n",
        "\n",
        "from sklearn.preprocessing import label_binarize, StandardScaler\n",
        "from sklearn.decomposition import PCA\n",
        "\n",
        "\n",
        "from sklearn.inspection import permutation_importance\n",
        "from sklearn.metrics import accuracy_score, confusion_matrix, f1_score, recall_score, precision_score, roc_auc_score, roc_curve, plot_roc_curve, ConfusionMatrixDisplay\n",
        "from sklearn.model_selection import KFold, train_test_split, cross_val_score, cross_validate, ShuffleSplit, GridSearchCV\n",
        "\n",
        "from sklearn import neighbors, linear_model\n",
        "from sklearn.discriminant_analysis import LinearDiscriminantAnalysis\n",
        "from sklearn.ensemble import AdaBoostClassifier, GradientBoostingClassifier, RandomForestClassifier\n",
        "from sklearn.tree import DecisionTreeClassifier, plot_tree "
      ]
    },
    {
      "cell_type": "markdown",
      "metadata": {
        "id": "MNW6L0BZPA4e"
      },
      "source": [
        "## 1 - Importation des données"
      ]
    },
    {
      "cell_type": "code",
      "execution_count": 2,
      "metadata": {
        "id": "sLwgeFQrPA4f"
      },
      "outputs": [],
      "source": [
        "nb_binome = 18022495 # nombre à remplacer par votre numéro de binome\n",
        "np.random.seed(nb_binome)"
      ]
    },
    {
      "cell_type": "code",
      "execution_count": 3,
      "metadata": {
        "id": "LWcPcVi4PA4g"
      },
      "outputs": [],
      "source": [
        "n  = 31405\n",
        "p = 0.1\n",
        "Skiprows =  np.where(np.random.uniform(size=(n))>p)[0]\n",
        "\n",
        "varnames = [str(i) for i in range(2497)]\n",
        "data1 = pd.read_csv(\"https://perso.univ-rennes1.fr/valerie.monbet/MachineLearning/AndroidMalware_Training_set.csv\",\n",
        "                  sep=\",\",skiprows=Skiprows,\n",
        "                  names = varnames,\n",
        "                  header=None)"
      ]
    },
    {
      "cell_type": "code",
      "execution_count": 4,
      "metadata": {
        "colab": {
          "base_uri": "https://localhost:8080/",
          "height": 233
        },
        "id": "6rdy4rANPA4g",
        "outputId": "3c32e845-849e-4cb5-94d8-e00214e6e26e"
      },
      "outputs": [
        {
          "output_type": "execute_result",
          "data": {
            "text/plain": [
              "     0  1    2   3   4   5   6   7   8    9  ...  2487  2488  2489  2490  \\\n",
              "0   84  0  0.0   3  22  16   7  28   7  0.0  ...   0.0   0.0   0.0   0.0   \n",
              "1   79  0  0.0   2  12   2   0  23   1  0.0  ...   0.0   0.0   0.0   0.0   \n",
              "2  425  1  0.0  26  75   4   4  29   5  0.0  ...   0.0   0.0   0.0   0.0   \n",
              "3   84  0  0.0  14  22  11   2  28  12  0.0  ...   0.0   0.0   0.0   0.0   \n",
              "4  313  0  0.0   4  13  10  13  37  18  1.0  ...   0.0   0.0   0.0   0.0   \n",
              "\n",
              "   2491  2492                              2493     2494      2495     2496  \n",
              "0   0.0   0.0  e4c183e206c81a642711390b3fde726a  skymobi  Riskware  Malware  \n",
              "1   0.0   0.0  58fcb5e5fe9f370b900365f62d9ba630   smspay  Riskware  Malware  \n",
              "2   0.0   0.0  358ed4fb0688dbf3899bb027b2f5ba62   smspay  Riskware  Malware  \n",
              "3   0.0   0.0  d3201aa24a946e2429678f24c642e5e3   smsreg  Riskware  Malware  \n",
              "4   0.0   0.0  c6e8716da354a4ff6f90925508e66fdc   smspay  Riskware  Malware  \n",
              "\n",
              "[5 rows x 2497 columns]"
            ],
            "text/html": [
              "\n",
              "  <div id=\"df-60c36cfd-81aa-4cfc-9e3e-e22c7552537e\">\n",
              "    <div class=\"colab-df-container\">\n",
              "      <div>\n",
              "<style scoped>\n",
              "    .dataframe tbody tr th:only-of-type {\n",
              "        vertical-align: middle;\n",
              "    }\n",
              "\n",
              "    .dataframe tbody tr th {\n",
              "        vertical-align: top;\n",
              "    }\n",
              "\n",
              "    .dataframe thead th {\n",
              "        text-align: right;\n",
              "    }\n",
              "</style>\n",
              "<table border=\"1\" class=\"dataframe\">\n",
              "  <thead>\n",
              "    <tr style=\"text-align: right;\">\n",
              "      <th></th>\n",
              "      <th>0</th>\n",
              "      <th>1</th>\n",
              "      <th>2</th>\n",
              "      <th>3</th>\n",
              "      <th>4</th>\n",
              "      <th>5</th>\n",
              "      <th>6</th>\n",
              "      <th>7</th>\n",
              "      <th>8</th>\n",
              "      <th>9</th>\n",
              "      <th>...</th>\n",
              "      <th>2487</th>\n",
              "      <th>2488</th>\n",
              "      <th>2489</th>\n",
              "      <th>2490</th>\n",
              "      <th>2491</th>\n",
              "      <th>2492</th>\n",
              "      <th>2493</th>\n",
              "      <th>2494</th>\n",
              "      <th>2495</th>\n",
              "      <th>2496</th>\n",
              "    </tr>\n",
              "  </thead>\n",
              "  <tbody>\n",
              "    <tr>\n",
              "      <th>0</th>\n",
              "      <td>84</td>\n",
              "      <td>0</td>\n",
              "      <td>0.0</td>\n",
              "      <td>3</td>\n",
              "      <td>22</td>\n",
              "      <td>16</td>\n",
              "      <td>7</td>\n",
              "      <td>28</td>\n",
              "      <td>7</td>\n",
              "      <td>0.0</td>\n",
              "      <td>...</td>\n",
              "      <td>0.0</td>\n",
              "      <td>0.0</td>\n",
              "      <td>0.0</td>\n",
              "      <td>0.0</td>\n",
              "      <td>0.0</td>\n",
              "      <td>0.0</td>\n",
              "      <td>e4c183e206c81a642711390b3fde726a</td>\n",
              "      <td>skymobi</td>\n",
              "      <td>Riskware</td>\n",
              "      <td>Malware</td>\n",
              "    </tr>\n",
              "    <tr>\n",
              "      <th>1</th>\n",
              "      <td>79</td>\n",
              "      <td>0</td>\n",
              "      <td>0.0</td>\n",
              "      <td>2</td>\n",
              "      <td>12</td>\n",
              "      <td>2</td>\n",
              "      <td>0</td>\n",
              "      <td>23</td>\n",
              "      <td>1</td>\n",
              "      <td>0.0</td>\n",
              "      <td>...</td>\n",
              "      <td>0.0</td>\n",
              "      <td>0.0</td>\n",
              "      <td>0.0</td>\n",
              "      <td>0.0</td>\n",
              "      <td>0.0</td>\n",
              "      <td>0.0</td>\n",
              "      <td>58fcb5e5fe9f370b900365f62d9ba630</td>\n",
              "      <td>smspay</td>\n",
              "      <td>Riskware</td>\n",
              "      <td>Malware</td>\n",
              "    </tr>\n",
              "    <tr>\n",
              "      <th>2</th>\n",
              "      <td>425</td>\n",
              "      <td>1</td>\n",
              "      <td>0.0</td>\n",
              "      <td>26</td>\n",
              "      <td>75</td>\n",
              "      <td>4</td>\n",
              "      <td>4</td>\n",
              "      <td>29</td>\n",
              "      <td>5</td>\n",
              "      <td>0.0</td>\n",
              "      <td>...</td>\n",
              "      <td>0.0</td>\n",
              "      <td>0.0</td>\n",
              "      <td>0.0</td>\n",
              "      <td>0.0</td>\n",
              "      <td>0.0</td>\n",
              "      <td>0.0</td>\n",
              "      <td>358ed4fb0688dbf3899bb027b2f5ba62</td>\n",
              "      <td>smspay</td>\n",
              "      <td>Riskware</td>\n",
              "      <td>Malware</td>\n",
              "    </tr>\n",
              "    <tr>\n",
              "      <th>3</th>\n",
              "      <td>84</td>\n",
              "      <td>0</td>\n",
              "      <td>0.0</td>\n",
              "      <td>14</td>\n",
              "      <td>22</td>\n",
              "      <td>11</td>\n",
              "      <td>2</td>\n",
              "      <td>28</td>\n",
              "      <td>12</td>\n",
              "      <td>0.0</td>\n",
              "      <td>...</td>\n",
              "      <td>0.0</td>\n",
              "      <td>0.0</td>\n",
              "      <td>0.0</td>\n",
              "      <td>0.0</td>\n",
              "      <td>0.0</td>\n",
              "      <td>0.0</td>\n",
              "      <td>d3201aa24a946e2429678f24c642e5e3</td>\n",
              "      <td>smsreg</td>\n",
              "      <td>Riskware</td>\n",
              "      <td>Malware</td>\n",
              "    </tr>\n",
              "    <tr>\n",
              "      <th>4</th>\n",
              "      <td>313</td>\n",
              "      <td>0</td>\n",
              "      <td>0.0</td>\n",
              "      <td>4</td>\n",
              "      <td>13</td>\n",
              "      <td>10</td>\n",
              "      <td>13</td>\n",
              "      <td>37</td>\n",
              "      <td>18</td>\n",
              "      <td>1.0</td>\n",
              "      <td>...</td>\n",
              "      <td>0.0</td>\n",
              "      <td>0.0</td>\n",
              "      <td>0.0</td>\n",
              "      <td>0.0</td>\n",
              "      <td>0.0</td>\n",
              "      <td>0.0</td>\n",
              "      <td>c6e8716da354a4ff6f90925508e66fdc</td>\n",
              "      <td>smspay</td>\n",
              "      <td>Riskware</td>\n",
              "      <td>Malware</td>\n",
              "    </tr>\n",
              "  </tbody>\n",
              "</table>\n",
              "<p>5 rows × 2497 columns</p>\n",
              "</div>\n",
              "      <button class=\"colab-df-convert\" onclick=\"convertToInteractive('df-60c36cfd-81aa-4cfc-9e3e-e22c7552537e')\"\n",
              "              title=\"Convert this dataframe to an interactive table.\"\n",
              "              style=\"display:none;\">\n",
              "        \n",
              "  <svg xmlns=\"http://www.w3.org/2000/svg\" height=\"24px\"viewBox=\"0 0 24 24\"\n",
              "       width=\"24px\">\n",
              "    <path d=\"M0 0h24v24H0V0z\" fill=\"none\"/>\n",
              "    <path d=\"M18.56 5.44l.94 2.06.94-2.06 2.06-.94-2.06-.94-.94-2.06-.94 2.06-2.06.94zm-11 1L8.5 8.5l.94-2.06 2.06-.94-2.06-.94L8.5 2.5l-.94 2.06-2.06.94zm10 10l.94 2.06.94-2.06 2.06-.94-2.06-.94-.94-2.06-.94 2.06-2.06.94z\"/><path d=\"M17.41 7.96l-1.37-1.37c-.4-.4-.92-.59-1.43-.59-.52 0-1.04.2-1.43.59L10.3 9.45l-7.72 7.72c-.78.78-.78 2.05 0 2.83L4 21.41c.39.39.9.59 1.41.59.51 0 1.02-.2 1.41-.59l7.78-7.78 2.81-2.81c.8-.78.8-2.07 0-2.86zM5.41 20L4 18.59l7.72-7.72 1.47 1.35L5.41 20z\"/>\n",
              "  </svg>\n",
              "      </button>\n",
              "      \n",
              "  <style>\n",
              "    .colab-df-container {\n",
              "      display:flex;\n",
              "      flex-wrap:wrap;\n",
              "      gap: 12px;\n",
              "    }\n",
              "\n",
              "    .colab-df-convert {\n",
              "      background-color: #E8F0FE;\n",
              "      border: none;\n",
              "      border-radius: 50%;\n",
              "      cursor: pointer;\n",
              "      display: none;\n",
              "      fill: #1967D2;\n",
              "      height: 32px;\n",
              "      padding: 0 0 0 0;\n",
              "      width: 32px;\n",
              "    }\n",
              "\n",
              "    .colab-df-convert:hover {\n",
              "      background-color: #E2EBFA;\n",
              "      box-shadow: 0px 1px 2px rgba(60, 64, 67, 0.3), 0px 1px 3px 1px rgba(60, 64, 67, 0.15);\n",
              "      fill: #174EA6;\n",
              "    }\n",
              "\n",
              "    [theme=dark] .colab-df-convert {\n",
              "      background-color: #3B4455;\n",
              "      fill: #D2E3FC;\n",
              "    }\n",
              "\n",
              "    [theme=dark] .colab-df-convert:hover {\n",
              "      background-color: #434B5C;\n",
              "      box-shadow: 0px 1px 3px 1px rgba(0, 0, 0, 0.15);\n",
              "      filter: drop-shadow(0px 1px 2px rgba(0, 0, 0, 0.3));\n",
              "      fill: #FFFFFF;\n",
              "    }\n",
              "  </style>\n",
              "\n",
              "      <script>\n",
              "        const buttonEl =\n",
              "          document.querySelector('#df-60c36cfd-81aa-4cfc-9e3e-e22c7552537e button.colab-df-convert');\n",
              "        buttonEl.style.display =\n",
              "          google.colab.kernel.accessAllowed ? 'block' : 'none';\n",
              "\n",
              "        async function convertToInteractive(key) {\n",
              "          const element = document.querySelector('#df-60c36cfd-81aa-4cfc-9e3e-e22c7552537e');\n",
              "          const dataTable =\n",
              "            await google.colab.kernel.invokeFunction('convertToInteractive',\n",
              "                                                     [key], {});\n",
              "          if (!dataTable) return;\n",
              "\n",
              "          const docLinkHtml = 'Like what you see? Visit the ' +\n",
              "            '<a target=\"_blank\" href=https://colab.research.google.com/notebooks/data_table.ipynb>data table notebook</a>'\n",
              "            + ' to learn more about interactive tables.';\n",
              "          element.innerHTML = '';\n",
              "          dataTable['output_type'] = 'display_data';\n",
              "          await google.colab.output.renderOutput(dataTable, element);\n",
              "          const docLink = document.createElement('div');\n",
              "          docLink.innerHTML = docLinkHtml;\n",
              "          element.appendChild(docLink);\n",
              "        }\n",
              "      </script>\n",
              "    </div>\n",
              "  </div>\n",
              "  "
            ]
          },
          "metadata": {},
          "execution_count": 4
        }
      ],
      "source": [
        "data1.head()"
      ]
    },
    {
      "cell_type": "markdown",
      "metadata": {
        "id": "pBTDkgkrPA4h"
      },
      "source": [
        "**On retire les colonnes  2493 (hash : identifiants), 2494 (famille), 2496 (Malware ou non). Ces informations ne nous aiderons pas pour la classification**"
      ]
    },
    {
      "cell_type": "code",
      "execution_count": 5,
      "metadata": {
        "id": "tgI7E6kYPA4i"
      },
      "outputs": [],
      "source": [
        "data1 = data1.drop(['2493','2494','2496'], axis = 1)"
      ]
    },
    {
      "cell_type": "code",
      "execution_count": 6,
      "metadata": {
        "colab": {
          "base_uri": "https://localhost:8080/",
          "height": 233
        },
        "id": "sPxG3Br7PA4i",
        "outputId": "3a795752-6c77-4c29-ce73-ff5d2a60b1c1"
      },
      "outputs": [
        {
          "output_type": "execute_result",
          "data": {
            "text/plain": [
              "     0  1    2   3   4   5   6   7   8    9  ...  2484  2485  2486  2487  \\\n",
              "0   84  0  0.0   3  22  16   7  28   7  0.0  ...   0.0   0.0   0.0   0.0   \n",
              "1   79  0  0.0   2  12   2   0  23   1  0.0  ...   0.0   0.0   0.0   0.0   \n",
              "2  425  1  0.0  26  75   4   4  29   5  0.0  ...   0.0   0.0   0.0   0.0   \n",
              "3   84  0  0.0  14  22  11   2  28  12  0.0  ...   0.0   0.0   0.0   0.0   \n",
              "4  313  0  0.0   4  13  10  13  37  18  1.0  ...   0.0   0.0   0.0   0.0   \n",
              "\n",
              "   2488  2489  2490  2491  2492      2495  \n",
              "0   0.0   0.0   0.0   0.0   0.0  Riskware  \n",
              "1   0.0   0.0   0.0   0.0   0.0  Riskware  \n",
              "2   0.0   0.0   0.0   0.0   0.0  Riskware  \n",
              "3   0.0   0.0   0.0   0.0   0.0  Riskware  \n",
              "4   0.0   0.0   0.0   0.0   0.0  Riskware  \n",
              "\n",
              "[5 rows x 2494 columns]"
            ],
            "text/html": [
              "\n",
              "  <div id=\"df-05a9d47f-ac6e-4f06-88a7-555c1533c0dc\">\n",
              "    <div class=\"colab-df-container\">\n",
              "      <div>\n",
              "<style scoped>\n",
              "    .dataframe tbody tr th:only-of-type {\n",
              "        vertical-align: middle;\n",
              "    }\n",
              "\n",
              "    .dataframe tbody tr th {\n",
              "        vertical-align: top;\n",
              "    }\n",
              "\n",
              "    .dataframe thead th {\n",
              "        text-align: right;\n",
              "    }\n",
              "</style>\n",
              "<table border=\"1\" class=\"dataframe\">\n",
              "  <thead>\n",
              "    <tr style=\"text-align: right;\">\n",
              "      <th></th>\n",
              "      <th>0</th>\n",
              "      <th>1</th>\n",
              "      <th>2</th>\n",
              "      <th>3</th>\n",
              "      <th>4</th>\n",
              "      <th>5</th>\n",
              "      <th>6</th>\n",
              "      <th>7</th>\n",
              "      <th>8</th>\n",
              "      <th>9</th>\n",
              "      <th>...</th>\n",
              "      <th>2484</th>\n",
              "      <th>2485</th>\n",
              "      <th>2486</th>\n",
              "      <th>2487</th>\n",
              "      <th>2488</th>\n",
              "      <th>2489</th>\n",
              "      <th>2490</th>\n",
              "      <th>2491</th>\n",
              "      <th>2492</th>\n",
              "      <th>2495</th>\n",
              "    </tr>\n",
              "  </thead>\n",
              "  <tbody>\n",
              "    <tr>\n",
              "      <th>0</th>\n",
              "      <td>84</td>\n",
              "      <td>0</td>\n",
              "      <td>0.0</td>\n",
              "      <td>3</td>\n",
              "      <td>22</td>\n",
              "      <td>16</td>\n",
              "      <td>7</td>\n",
              "      <td>28</td>\n",
              "      <td>7</td>\n",
              "      <td>0.0</td>\n",
              "      <td>...</td>\n",
              "      <td>0.0</td>\n",
              "      <td>0.0</td>\n",
              "      <td>0.0</td>\n",
              "      <td>0.0</td>\n",
              "      <td>0.0</td>\n",
              "      <td>0.0</td>\n",
              "      <td>0.0</td>\n",
              "      <td>0.0</td>\n",
              "      <td>0.0</td>\n",
              "      <td>Riskware</td>\n",
              "    </tr>\n",
              "    <tr>\n",
              "      <th>1</th>\n",
              "      <td>79</td>\n",
              "      <td>0</td>\n",
              "      <td>0.0</td>\n",
              "      <td>2</td>\n",
              "      <td>12</td>\n",
              "      <td>2</td>\n",
              "      <td>0</td>\n",
              "      <td>23</td>\n",
              "      <td>1</td>\n",
              "      <td>0.0</td>\n",
              "      <td>...</td>\n",
              "      <td>0.0</td>\n",
              "      <td>0.0</td>\n",
              "      <td>0.0</td>\n",
              "      <td>0.0</td>\n",
              "      <td>0.0</td>\n",
              "      <td>0.0</td>\n",
              "      <td>0.0</td>\n",
              "      <td>0.0</td>\n",
              "      <td>0.0</td>\n",
              "      <td>Riskware</td>\n",
              "    </tr>\n",
              "    <tr>\n",
              "      <th>2</th>\n",
              "      <td>425</td>\n",
              "      <td>1</td>\n",
              "      <td>0.0</td>\n",
              "      <td>26</td>\n",
              "      <td>75</td>\n",
              "      <td>4</td>\n",
              "      <td>4</td>\n",
              "      <td>29</td>\n",
              "      <td>5</td>\n",
              "      <td>0.0</td>\n",
              "      <td>...</td>\n",
              "      <td>0.0</td>\n",
              "      <td>0.0</td>\n",
              "      <td>0.0</td>\n",
              "      <td>0.0</td>\n",
              "      <td>0.0</td>\n",
              "      <td>0.0</td>\n",
              "      <td>0.0</td>\n",
              "      <td>0.0</td>\n",
              "      <td>0.0</td>\n",
              "      <td>Riskware</td>\n",
              "    </tr>\n",
              "    <tr>\n",
              "      <th>3</th>\n",
              "      <td>84</td>\n",
              "      <td>0</td>\n",
              "      <td>0.0</td>\n",
              "      <td>14</td>\n",
              "      <td>22</td>\n",
              "      <td>11</td>\n",
              "      <td>2</td>\n",
              "      <td>28</td>\n",
              "      <td>12</td>\n",
              "      <td>0.0</td>\n",
              "      <td>...</td>\n",
              "      <td>0.0</td>\n",
              "      <td>0.0</td>\n",
              "      <td>0.0</td>\n",
              "      <td>0.0</td>\n",
              "      <td>0.0</td>\n",
              "      <td>0.0</td>\n",
              "      <td>0.0</td>\n",
              "      <td>0.0</td>\n",
              "      <td>0.0</td>\n",
              "      <td>Riskware</td>\n",
              "    </tr>\n",
              "    <tr>\n",
              "      <th>4</th>\n",
              "      <td>313</td>\n",
              "      <td>0</td>\n",
              "      <td>0.0</td>\n",
              "      <td>4</td>\n",
              "      <td>13</td>\n",
              "      <td>10</td>\n",
              "      <td>13</td>\n",
              "      <td>37</td>\n",
              "      <td>18</td>\n",
              "      <td>1.0</td>\n",
              "      <td>...</td>\n",
              "      <td>0.0</td>\n",
              "      <td>0.0</td>\n",
              "      <td>0.0</td>\n",
              "      <td>0.0</td>\n",
              "      <td>0.0</td>\n",
              "      <td>0.0</td>\n",
              "      <td>0.0</td>\n",
              "      <td>0.0</td>\n",
              "      <td>0.0</td>\n",
              "      <td>Riskware</td>\n",
              "    </tr>\n",
              "  </tbody>\n",
              "</table>\n",
              "<p>5 rows × 2494 columns</p>\n",
              "</div>\n",
              "      <button class=\"colab-df-convert\" onclick=\"convertToInteractive('df-05a9d47f-ac6e-4f06-88a7-555c1533c0dc')\"\n",
              "              title=\"Convert this dataframe to an interactive table.\"\n",
              "              style=\"display:none;\">\n",
              "        \n",
              "  <svg xmlns=\"http://www.w3.org/2000/svg\" height=\"24px\"viewBox=\"0 0 24 24\"\n",
              "       width=\"24px\">\n",
              "    <path d=\"M0 0h24v24H0V0z\" fill=\"none\"/>\n",
              "    <path d=\"M18.56 5.44l.94 2.06.94-2.06 2.06-.94-2.06-.94-.94-2.06-.94 2.06-2.06.94zm-11 1L8.5 8.5l.94-2.06 2.06-.94-2.06-.94L8.5 2.5l-.94 2.06-2.06.94zm10 10l.94 2.06.94-2.06 2.06-.94-2.06-.94-.94-2.06-.94 2.06-2.06.94z\"/><path d=\"M17.41 7.96l-1.37-1.37c-.4-.4-.92-.59-1.43-.59-.52 0-1.04.2-1.43.59L10.3 9.45l-7.72 7.72c-.78.78-.78 2.05 0 2.83L4 21.41c.39.39.9.59 1.41.59.51 0 1.02-.2 1.41-.59l7.78-7.78 2.81-2.81c.8-.78.8-2.07 0-2.86zM5.41 20L4 18.59l7.72-7.72 1.47 1.35L5.41 20z\"/>\n",
              "  </svg>\n",
              "      </button>\n",
              "      \n",
              "  <style>\n",
              "    .colab-df-container {\n",
              "      display:flex;\n",
              "      flex-wrap:wrap;\n",
              "      gap: 12px;\n",
              "    }\n",
              "\n",
              "    .colab-df-convert {\n",
              "      background-color: #E8F0FE;\n",
              "      border: none;\n",
              "      border-radius: 50%;\n",
              "      cursor: pointer;\n",
              "      display: none;\n",
              "      fill: #1967D2;\n",
              "      height: 32px;\n",
              "      padding: 0 0 0 0;\n",
              "      width: 32px;\n",
              "    }\n",
              "\n",
              "    .colab-df-convert:hover {\n",
              "      background-color: #E2EBFA;\n",
              "      box-shadow: 0px 1px 2px rgba(60, 64, 67, 0.3), 0px 1px 3px 1px rgba(60, 64, 67, 0.15);\n",
              "      fill: #174EA6;\n",
              "    }\n",
              "\n",
              "    [theme=dark] .colab-df-convert {\n",
              "      background-color: #3B4455;\n",
              "      fill: #D2E3FC;\n",
              "    }\n",
              "\n",
              "    [theme=dark] .colab-df-convert:hover {\n",
              "      background-color: #434B5C;\n",
              "      box-shadow: 0px 1px 3px 1px rgba(0, 0, 0, 0.15);\n",
              "      filter: drop-shadow(0px 1px 2px rgba(0, 0, 0, 0.3));\n",
              "      fill: #FFFFFF;\n",
              "    }\n",
              "  </style>\n",
              "\n",
              "      <script>\n",
              "        const buttonEl =\n",
              "          document.querySelector('#df-05a9d47f-ac6e-4f06-88a7-555c1533c0dc button.colab-df-convert');\n",
              "        buttonEl.style.display =\n",
              "          google.colab.kernel.accessAllowed ? 'block' : 'none';\n",
              "\n",
              "        async function convertToInteractive(key) {\n",
              "          const element = document.querySelector('#df-05a9d47f-ac6e-4f06-88a7-555c1533c0dc');\n",
              "          const dataTable =\n",
              "            await google.colab.kernel.invokeFunction('convertToInteractive',\n",
              "                                                     [key], {});\n",
              "          if (!dataTable) return;\n",
              "\n",
              "          const docLinkHtml = 'Like what you see? Visit the ' +\n",
              "            '<a target=\"_blank\" href=https://colab.research.google.com/notebooks/data_table.ipynb>data table notebook</a>'\n",
              "            + ' to learn more about interactive tables.';\n",
              "          element.innerHTML = '';\n",
              "          dataTable['output_type'] = 'display_data';\n",
              "          await google.colab.output.renderOutput(dataTable, element);\n",
              "          const docLink = document.createElement('div');\n",
              "          docLink.innerHTML = docLinkHtml;\n",
              "          element.appendChild(docLink);\n",
              "        }\n",
              "      </script>\n",
              "    </div>\n",
              "  </div>\n",
              "  "
            ]
          },
          "metadata": {},
          "execution_count": 6
        }
      ],
      "source": [
        "data1.head()"
      ]
    },
    {
      "cell_type": "code",
      "execution_count": 9,
      "metadata": {
        "scrolled": true,
        "colab": {
          "base_uri": "https://localhost:8080/",
          "height": 524
        },
        "id": "Id82ct3bPA4j",
        "outputId": "face3187-d0bb-4441-e052-af0880a27ee6"
      },
      "outputs": [
        {
          "output_type": "execute_result",
          "data": {
            "text/plain": [
              "Text(0.5, 1.0, 'categorie')"
            ]
          },
          "metadata": {},
          "execution_count": 9
        },
        {
          "output_type": "display_data",
          "data": {
            "text/plain": [
              "<Figure size 1440x576 with 1 Axes>"
            ],
            "image/png": "[encoded data removed]"
          },
          "metadata": {
            "needs_background": "light"
          }
        }
      ],
      "source": [
        "plt.figure(figsize=(20,8))\n",
        "sns.countplot(x=\"2495\",data=data1,palette=\"Blues_d\")\n",
        "plt.title(\"categorie\")"
      ]
    },
    {
      "cell_type": "markdown",
      "metadata": {
        "id": "IwzPkHYnPA4j"
      },
      "source": [
        "**On regarde les variables dont la variance est nulle donc dont l'information est inutile et on retire ces colonnes.**"
      ]
    },
    {
      "cell_type": "code",
      "execution_count": 10,
      "metadata": {
        "colab": {
          "base_uri": "https://localhost:8080/"
        },
        "id": "kHiD6sg7PA4k",
        "outputId": "de6eaf28-d22a-4888-fe1b-d7edd1d9a9e4"
      },
      "outputs": [
        {
          "output_type": "stream",
          "name": "stdout",
          "text": [
            "(2493,)\n",
            "Variables avec écart-type nul :  (array([  30,   42,   70, ..., 2490, 2491, 2492]),)\n",
            "Variables avec écart-type non défini :  (array([], dtype=int64),)\n"
          ]
        }
      ],
      "source": [
        "sd = data1.std(numeric_only = True)\n",
        "print(sd.shape)\n",
        "print(\"Variables avec écart-type nul : \",np.where(sd==0))\n",
        "print(\"Variables avec écart-type non défini : \",np.where(np.isnan(sd)))\n",
        "\n",
        "data = data1.drop( np.array(np.where(sd==0)[0],dtype = str) , axis = 1)"
      ]
    },
    {
      "cell_type": "markdown",
      "metadata": {
        "id": "21JxlUmEPA4l"
      },
      "source": [
        "**La colonne qui va nous intéresser est la colonne 2495. On voudrait avoir des données binaires pour pouvoir les interpréter. Une première solution serait de transformer donc les données en tableau numpy. A changer selon la catégorie voulue dans l'ordre alphabétique (Adware, Backdoor, Banker, Dropper, Fileinfector, PUA, Ransomware, Riskware, Scareware, SMS, Spyware, Trojan). Pour la suite, quand nous voudrons calculer les scores de précisions, il faudrait prendre en compte la poids de chaque catégorie dans l'ensemble (il y a plus de chance de tomber dans la bonne catégorie quand il y a beaucoup d'éléments de cette catégorie dans l'ensemble que lorsqu'il y en a peu). Une autre solution existe: utiliser le mode average = 'weighted' dans les fonctions de calculs de score. Cela nous permet de regarder toutes les catégories en même temps donc d'avoir une vue plus globale de l'ensemble tout en obtenant les résultats similaires à la première solution.**"
      ]
    },
    {
      "cell_type": "code",
      "execution_count": 11,
      "metadata": {
        "id": "MvRkyMTqPA4n"
      },
      "outputs": [],
      "source": [
        "data_np = data.to_numpy()\n",
        "\n",
        "X = data_np[:,:-1]\n",
        "Y = data_np[:,-1]\n",
        "\n",
        "## Préparation des données pour le machine learning\n",
        "X_train, X_test, y_train, y_test = train_test_split(X, Y, test_size=0.7, random_state=42)"
      ]
    },
    {
      "cell_type": "markdown",
      "source": [
        "*On commence par générer un ensemble d'apprentissage et un ensemble de test. L'argument random_state permet de fixer la graine du générateur pseudo-aléatoire.*"
      ],
      "metadata": {
        "id": "fsjDTDjkSdLu"
      }
    },
    {
      "cell_type": "code",
      "execution_count": 12,
      "metadata": {
        "id": "CFAoxWmtPA4o"
      },
      "outputs": [],
      "source": [
        "scaler = StandardScaler()\n",
        "X_train_sc = scaler.fit_transform(X_train)\n",
        "X_test_sc = scaler.transform(X_test)"
      ]
    },
    {
      "cell_type": "markdown",
      "metadata": {
        "id": "Qz_j0e35PA4p"
      },
      "source": [
        "# K Neigbors "
      ]
    },
    {
      "cell_type": "code",
      "execution_count": 13,
      "metadata": {
        "colab": {
          "base_uri": "https://localhost:8080/"
        },
        "id": "QwJj_XW-PA4q",
        "outputId": "1ec66249-91bf-41a5-ae2a-b0c49c2e188f"
      },
      "outputs": [
        {
          "output_type": "stream",
          "name": "stdout",
          "text": [
            "Meilleur modèle\n",
            "KNeighborsClassifier(algorithm='ball_tree', leaf_size=5, metric='manhattan',\n",
            "                     weights='distance')\n"
          ]
        }
      ],
      "source": [
        "# Generation de B ensemble d'entrainement/validation \n",
        "B = 5\n",
        "cv = KFold(n_splits=B, random_state=None, shuffle=True)\n",
        "knn = neighbors.KNeighborsClassifier()\n",
        "param_grid = [{'n_neighbors': [1,5,10,20,30], \n",
        "               'weights': ['uniform','distance'],\n",
        "               'algorithm': ['auto', 'ball_tree', 'brute'],\n",
        "               'leaf_size': [5,10,20,30,40],\n",
        "               'metric': ['euclidean','manhattan']}]\n",
        "# Optimization of the hyperparameters\n",
        "search_knn = GridSearchCV(knn, \n",
        "                      param_grid, \n",
        "                      scoring=\"accuracy\",\n",
        "                      cv=cv,\n",
        "                      n_jobs=-1) # n_jobs=-1 permet d'utiliser tous les processeurs (calcul parallèle)\n",
        "search_knn.fit(X_train,y_train)\n",
        "print('Meilleur modèle')\n",
        "print(search_knn.best_estimator_)"
      ]
    },
    {
      "cell_type": "code",
      "execution_count": 14,
      "metadata": {
        "id": "hkl16waBPA4r"
      },
      "outputs": [],
      "source": [
        "y_pred_knn = search_knn.best_estimator_.predict(X_test)"
      ]
    },
    {
      "cell_type": "code",
      "execution_count": 15,
      "metadata": {
        "colab": {
          "base_uri": "https://localhost:8080/",
          "height": 521
        },
        "id": "sT4ou3iZPA4s",
        "outputId": "f6432b8b-3cb2-4e4a-b0f6-694555058148"
      },
      "outputs": [
        {
          "output_type": "stream",
          "name": "stdout",
          "text": [
            "Confusion matrix (proportions) : \n",
            "[[0.8 0.  0.  0.  0.  0.  0.  0.1 0.  0.  0.  0. ]\n",
            " [0.2 0.  0.  0.  0.  0.  0.  0.2 0.4 0.  0.  0.2]\n",
            " [0.5 0.  0.2 0.  0.  0.  0.2 0.  0.  0.  0.  0. ]\n",
            " [0.3 0.  0.  0.3 0.  0.  0.  0.  0.  0.  0.  0.3]\n",
            " [0.  0.  1.  0.  0.  0.  0.  0.  0.  0.  0.  0. ]\n",
            " [0.4 0.  0.  0.  0.  0.  0.  0.6 0.  0.  0.  0. ]\n",
            " [0.2 0.  0.1 0.  0.  0.  0.7 0.  0.  0.  0.  0.1]\n",
            " [0.1 0.  0.  0.  0.  0.  0.  0.9 0.  0.  0.  0. ]\n",
            " [0.4 0.  0.1 0.  0.  0.  0.  0.  0.5 0.  0.  0. ]\n",
            " [0.3 0.  0.1 0.  0.  0.  0.  0.1 0.  0.3 0.  0.1]\n",
            " [0.  0.  0.1 0.  0.  0.  0.2 0.  0.  0.  0.5 0.1]\n",
            " [0.3 0.  0.  0.  0.  0.  0.  0.1 0.  0.  0.  0.5]]\n",
            " \n"
          ]
        },
        {
          "output_type": "display_data",
          "data": {
            "text/plain": [
              "<Figure size 432x288 with 2 Axes>"
            ],
            "image/png": "[encoded data removed]"
          },
          "metadata": {
            "needs_background": "light"
          }
        }
      ],
      "source": [
        "print(\"Confusion matrix (proportions) : \")\n",
        "cm = np.round(confusion_matrix(y_test,y_pred_knn,normalize='true'),1)\n",
        "print(np.round(cm,2))\n",
        "print(' ')\n",
        "ConfusionMatrixDisplay(cm).plot()\n",
        "plt.show()"
      ]
    },
    {
      "cell_type": "code",
      "execution_count": 17,
      "metadata": {
        "colab": {
          "base_uri": "https://localhost:8080/"
        },
        "id": "PmoIzLC6PA4s",
        "outputId": "4bdf8298-bb6c-48cd-f2ea-d57b3252bade"
      },
      "outputs": [
        {
          "output_type": "stream",
          "name": "stdout",
          "text": [
            "Score pour KNeighbors\n",
            "accuracy: 0.802\n",
            "precision 0.803\n",
            "recall 0.802\n",
            "f1 score 0.796\n"
          ]
        },
        {
          "output_type": "stream",
          "name": "stderr",
          "text": [
            "/usr/local/lib/python3.7/dist-packages/sklearn/metrics/_classification.py:1318: UndefinedMetricWarning: Precision is ill-defined and being set to 0.0 in labels with no predicted samples. Use `zero_division` parameter to control this behavior.\n",
            "  _warn_prf(average, modifier, msg_start, len(result))\n"
          ]
        }
      ],
      "source": [
        "print(\"Score pour KNeighbors\")\n",
        "print(\"accuracy:\", np.round(accuracy_score(y_test,y_pred_knn),3))\n",
        "print(\"precision\", np.round(precision_score(y_test,y_pred_knn, average = 'weighted'),3))\n",
        "print(\"recall\", np.round(recall_score(y_test,y_pred_knn, average = 'weighted'),3))\n",
        "print(\"f1 score\" , np.round(f1_score(y_test,y_pred_knn, average = 'weighted'),3))"
      ]
    },
    {
      "cell_type": "markdown",
      "metadata": {
        "id": "oFE8Yg4QPA4t"
      },
      "source": [
        "# Decision Tree"
      ]
    },
    {
      "cell_type": "code",
      "execution_count": 18,
      "metadata": {
        "colab": {
          "base_uri": "https://localhost:8080/"
        },
        "id": "Xy7wCQDwPA4u",
        "outputId": "472997a0-a101-4243-c3d0-93a6703dc21a"
      },
      "outputs": [
        {
          "output_type": "stream",
          "name": "stdout",
          "text": [
            "Meilleur modèle\n",
            "DecisionTreeClassifier(max_depth=20, max_features='log2')\n"
          ]
        }
      ],
      "source": [
        "B = 5\n",
        "cv = KFold(n_splits=B, random_state=4, shuffle=True)\n",
        "\n",
        "clf = DecisionTreeClassifier()\n",
        "param_grid = [{'criterion': ['gini', 'entropy'], \"\"\"???\"\"\"\n",
        "               'splitter': ['best','random'],\"\"\"???\"\"\"\n",
        "               'max_depth': [5,10,15,20,25],\n",
        "               'max_features': ['auto', 'sqrt', 'log2']}]\n",
        "# Optimization of the hyperparameters\n",
        "search_tree = GridSearchCV(clf, \n",
        "                      param_grid, \n",
        "                      scoring=\"accuracy\",\n",
        "                      cv=cv,\n",
        "                      n_jobs=-1) # n_jobs=-1 permet d'utiliser tous les processeurs (calcul parallèle)\n",
        "search_tree.fit(X_train,y_train)\n",
        "print('Meilleur modèle')\n",
        "print(search_tree.best_estimator_)"
      ]
    },
    {
      "cell_type": "code",
      "execution_count": 19,
      "metadata": {
        "colab": {
          "base_uri": "https://localhost:8080/",
          "height": 521
        },
        "id": "adsLxTiIPA4v",
        "outputId": "9c83aad3-4ee1-4db8-b1f0-c78bd23f9505"
      },
      "outputs": [
        {
          "output_type": "stream",
          "name": "stdout",
          "text": [
            "Confusion matrix (proportions) : \n",
            "[[0.8 0.  0.  0.  0.  0.  0.  0.1 0.  0.  0.  0.1]\n",
            " [0.2 0.  0.  0.6 0.  0.  0.  0.2 0.  0.  0.  0. ]\n",
            " [0.2 0.  0.2 0.  0.  0.  0.2 0.  0.  0.  0.  0.2]\n",
            " [0.2 0.  0.  0.6 0.  0.  0.  0.1 0.  0.  0.  0.1]\n",
            " [0.  0.  1.  0.  0.  0.  0.  0.  0.  0.  0.  0. ]\n",
            " [0.6 0.  0.  0.  0.  0.  0.  0.  0.4 0.  0.  0. ]\n",
            " [0.  0.  0.  0.2 0.  0.  0.5 0.  0.  0.  0.1 0.1]\n",
            " [0.1 0.  0.  0.  0.  0.  0.  0.9 0.  0.  0.  0. ]\n",
            " [0.  0.  0.  0.  0.  0.  0.1 0.1 0.4 0.  0.  0.4]\n",
            " [0.3 0.  0.  0.  0.  0.  0.  0.1 0.  0.3 0.  0.3]\n",
            " [0.2 0.  0.  0.  0.  0.  0.1 0.  0.1 0.  0.4 0.1]\n",
            " [0.3 0.  0.  0.  0.  0.  0.  0.  0.  0.  0.  0.5]]\n",
            " \n"
          ]
        },
        {
          "output_type": "display_data",
          "data": {
            "text/plain": [
              "<Figure size 432x288 with 2 Axes>"
            ],
            "image/png": "[encoded data removed]"
          },
          "metadata": {
            "needs_background": "light"
          }
        }
      ],
      "source": [
        "y_pred_tree = search_tree.best_estimator_.predict(X_test)\n",
        "print(\"Confusion matrix (proportions) : \")\n",
        "cm = np.round(confusion_matrix(y_test,y_pred_tree,normalize='true'),1)\n",
        "print(np.round(cm,2))\n",
        "print(' ')\n",
        "ConfusionMatrixDisplay(cm).plot()\n",
        "plt.show()"
      ]
    },
    {
      "cell_type": "code",
      "execution_count": 21,
      "metadata": {
        "colab": {
          "base_uri": "https://localhost:8080/"
        },
        "id": "g-8qBXDuPA4w",
        "outputId": "755af994-2f0a-4c10-f438-1542c22c0aea"
      },
      "outputs": [
        {
          "output_type": "stream",
          "name": "stdout",
          "text": [
            "Score pour Decision Tree\n",
            "accuracy: 0.771\n",
            "precision 0.787\n",
            "recall 0.771\n",
            "f1 score 0.774\n"
          ]
        },
        {
          "output_type": "stream",
          "name": "stderr",
          "text": [
            "/usr/local/lib/python3.7/dist-packages/sklearn/metrics/_classification.py:1318: UndefinedMetricWarning: Precision is ill-defined and being set to 0.0 in labels with no predicted samples. Use `zero_division` parameter to control this behavior.\n",
            "  _warn_prf(average, modifier, msg_start, len(result))\n"
          ]
        }
      ],
      "source": [
        "print(\"Score pour Decision Tree\")\n",
        "print(\"accuracy:\", np.round(accuracy_score(y_test,y_pred_tree),3))\n",
        "print(\"precision\", np.round(precision_score(y_test,y_pred_tree, average = 'weighted'),3))\n",
        "print(\"recall\", np.round(recall_score(y_test,y_pred_tree, average = 'weighted'),3))\n",
        "print(\"f1 score\" , np.round(f1_score(y_test,y_pred_tree, average = 'weighted'),3))"
      ]
    },
    {
      "cell_type": "markdown",
      "metadata": {
        "id": "BTFGKf6FPA4x"
      },
      "source": [
        "# Random Forest"
      ]
    },
    {
      "cell_type": "code",
      "execution_count": 22,
      "metadata": {
        "colab": {
          "base_uri": "https://localhost:8080/"
        },
        "id": "0_QhgQKOPA4x",
        "outputId": "4f2d0a9b-c449-4374-8df3-cf0464596ad9"
      },
      "outputs": [
        {
          "output_type": "stream",
          "name": "stdout",
          "text": [
            "Meilleur modèle\n",
            "RandomForestClassifier(max_depth=10, max_features=30)\n"
          ]
        }
      ],
      "source": [
        "param_grid = {'criterion': ['gini', 'entropy'],  \"\"???\"\"\n",
        "              'max_depth': [3,5,10,20],\n",
        "              'max_features': [10,15,20,30,40]}\n",
        "\n",
        "rf = RandomForestClassifier()\n",
        "search_rf = GridSearchCV(rf, \n",
        "                      param_grid, \n",
        "                      scoring=\"accuracy\",\n",
        "                      cv=cv,\n",
        "                      n_jobs=-1)\n",
        "search_rf.fit(X_train,y_train)\n",
        "print('Meilleur modèle')\n",
        "print(search_rf.best_estimator_)"
      ]
    },
    {
      "cell_type": "code",
      "execution_count": 23,
      "metadata": {
        "colab": {
          "base_uri": "https://localhost:8080/",
          "height": 521
        },
        "id": "PcO2gswUPA4y",
        "outputId": "90c0a224-a4ff-4875-ea09-4c65a17343c4"
      },
      "outputs": [
        {
          "output_type": "stream",
          "name": "stdout",
          "text": [
            "Confusion matrix (proportions) : \n",
            "[[1.  0.  0.  0.  0.  0.  0.  0.  0.  0.  0.  0. ]\n",
            " [0.2 0.  0.  0.  0.  0.  0.  0.6 0.  0.  0.  0.2]\n",
            " [0.2 0.  0.2 0.  0.  0.  0.2 0.2 0.  0.  0.  0. ]\n",
            " [0.4 0.  0.  0.3 0.  0.  0.1 0.  0.  0.  0.  0.1]\n",
            " [0.  0.  1.  0.  0.  0.  0.  0.  0.  0.  0.  0. ]\n",
            " [1.  0.  0.  0.  0.  0.  0.  0.  0.  0.  0.  0. ]\n",
            " [0.1 0.  0.  0.2 0.  0.  0.7 0.  0.  0.  0.  0.1]\n",
            " [0.1 0.  0.  0.  0.  0.  0.  0.9 0.  0.  0.  0. ]\n",
            " [0.2 0.  0.  0.  0.  0.  0.  0.  0.4 0.  0.  0.4]\n",
            " [0.4 0.  0.  0.  0.  0.  0.  0.  0.  0.3 0.  0.3]\n",
            " [0.1 0.  0.  0.  0.  0.  0.1 0.  0.  0.  0.3 0.3]\n",
            " [0.3 0.  0.  0.  0.  0.  0.  0.1 0.  0.  0.  0.6]]\n",
            " \n"
          ]
        },
        {
          "output_type": "display_data",
          "data": {
            "text/plain": [
              "<Figure size 432x288 with 2 Axes>"
            ],
            "image/png": "[encoded data removed]"
          },
          "metadata": {
            "needs_background": "light"
          }
        }
      ],
      "source": [
        "y_pred_rf = search_rf.best_estimator_.predict(X_test)\n",
        "print(\"Confusion matrix (proportions) : \")\n",
        "cm = np.round(confusion_matrix(y_test,y_pred_rf,normalize='true'),1)\n",
        "print(np.round(cm,2))\n",
        "print(' ')\n",
        "ConfusionMatrixDisplay(cm).plot()\n",
        "plt.show()"
      ]
    },
    {
      "cell_type": "code",
      "execution_count": 24,
      "metadata": {
        "colab": {
          "base_uri": "https://localhost:8080/"
        },
        "id": "zQwapS4IPA4y",
        "outputId": "7df2a3c5-c1e3-4c8f-a464-4f163cc332ff"
      },
      "outputs": [
        {
          "output_type": "stream",
          "name": "stdout",
          "text": [
            "Score pour Random Forest\n",
            "accuracy: 0.839\n",
            "precision 0.84\n",
            "recall 0.839\n",
            "f1 score 0.83\n"
          ]
        },
        {
          "output_type": "stream",
          "name": "stderr",
          "text": [
            "/usr/local/lib/python3.7/dist-packages/sklearn/metrics/_classification.py:1318: UndefinedMetricWarning: Precision is ill-defined and being set to 0.0 in labels with no predicted samples. Use `zero_division` parameter to control this behavior.\n",
            "  _warn_prf(average, modifier, msg_start, len(result))\n"
          ]
        }
      ],
      "source": [
        "print(\"Score pour Random Forest\")\n",
        "print(\"accuracy:\", np.round(accuracy_score(y_test,y_pred_rf),3))\n",
        "print(\"precision\", np.round(precision_score(y_test,y_pred_rf, average = 'weighted'),3))\n",
        "print(\"recall\", np.round(recall_score(y_test,y_pred_rf, average = 'weighted'),3))\n",
        "print(\"f1 score\" , np.round(f1_score(y_test,y_pred_rf, average = 'weighted'),3))"
      ]
    },
    {
      "cell_type": "markdown",
      "metadata": {
        "id": "uOvmo28mPA4z"
      },
      "source": [
        "# AdaBoost"
      ]
    },
    {
      "cell_type": "code",
      "execution_count": 25,
      "metadata": {
        "colab": {
          "base_uri": "https://localhost:8080/"
        },
        "id": "VV_Pc-UyPA40",
        "outputId": "f6f30199-1924-4a79-d6a8-a3a1523e1f51"
      },
      "outputs": [
        {
          "output_type": "stream",
          "name": "stdout",
          "text": [
            "Meilleur modèle\n",
            "AdaBoostClassifier(base_estimator=DecisionTreeClassifier(max_depth=3),\n",
            "                   learning_rate=0.01, n_estimators=30)\n"
          ]
        }
      ],
      "source": [
        "param_grid = {'n_estimators':[10,30,50,60,80], \n",
        "             'learning_rate':[0.001,0.01, 0.1,1]}\n",
        "\n",
        "ad = AdaBoostClassifier(DecisionTreeClassifier(max_depth=3))\n",
        "search_ad= GridSearchCV(ad, \n",
        "                      param_grid, \n",
        "                      scoring=\"accuracy\",\n",
        "                      cv=cv,\n",
        "                      n_jobs=-1)\n",
        "search_ad.fit(X_train,y_train)\n",
        "print('Meilleur modèle')\n",
        "print(search_ad.best_estimator_)"
      ]
    },
    {
      "cell_type": "code",
      "execution_count": 26,
      "metadata": {
        "id": "QooczCqGPA41"
      },
      "outputs": [],
      "source": [
        "y_pred_ad = search_ad.best_estimator_.predict(X_test)"
      ]
    },
    {
      "cell_type": "code",
      "execution_count": 27,
      "metadata": {
        "colab": {
          "base_uri": "https://localhost:8080/",
          "height": 521
        },
        "id": "tK5OQPEsPA41",
        "outputId": "69c8ebc4-59fd-499a-ec10-cf0772372e9d"
      },
      "outputs": [
        {
          "output_type": "stream",
          "name": "stdout",
          "text": [
            "Confusion matrix (proportions) : \n",
            "[[0.9 0.  0.  0.  0.  0.  0.  0.1 0.  0.  0.  0. ]\n",
            " [0.  0.  0.  0.  0.  0.  0.4 0.4 0.  0.  0.  0.2]\n",
            " [0.5 0.  0.2 0.  0.  0.  0.2 0.  0.  0.  0.  0. ]\n",
            " [0.7 0.  0.  0.  0.  0.  0.  0.1 0.  0.  0.  0.2]\n",
            " [0.  0.  1.  0.  0.  0.  0.  0.  0.  0.  0.  0. ]\n",
            " [0.8 0.  0.  0.  0.  0.  0.  0.  0.  0.  0.  0.2]\n",
            " [0.  0.  0.  0.  0.  0.  0.7 0.  0.  0.  0.  0.3]\n",
            " [0.1 0.  0.  0.  0.  0.  0.  0.9 0.  0.  0.  0. ]\n",
            " [0.  0.  0.  0.  0.  0.  0.1 0.1 0.4 0.  0.  0.4]\n",
            " [0.4 0.  0.  0.  0.  0.  0.  0.  0.  0.3 0.  0.3]\n",
            " [0.3 0.  0.  0.  0.  0.  0.3 0.2 0.  0.  0.  0.2]\n",
            " [0.3 0.  0.  0.  0.  0.  0.  0.3 0.  0.  0.  0.4]]\n",
            " \n"
          ]
        },
        {
          "output_type": "display_data",
          "data": {
            "text/plain": [
              "<Figure size 432x288 with 2 Axes>"
            ],
            "image/png": "[encoded data removed]"
          },
          "metadata": {
            "needs_background": "light"
          }
        }
      ],
      "source": [
        "print(\"Confusion matrix (proportions) : \")\n",
        "cm = np.round(confusion_matrix(y_test,y_pred_ad,normalize='true'),1)\n",
        "print(np.round(cm,2))\n",
        "print(' ')\n",
        "ConfusionMatrixDisplay(cm).plot()\n",
        "plt.show()"
      ]
    },
    {
      "cell_type": "code",
      "execution_count": 29,
      "metadata": {
        "colab": {
          "base_uri": "https://localhost:8080/"
        },
        "id": "LmV5E3QwPA42",
        "outputId": "ae76e887-5a0a-4843-cc78-862b107a0aff"
      },
      "outputs": [
        {
          "output_type": "stream",
          "name": "stdout",
          "text": [
            "Score pour AdaBoost\n",
            "accuracy: 0.783\n",
            "precision 0.755\n",
            "recall 0.783\n",
            "f1 score 0.761\n"
          ]
        },
        {
          "output_type": "stream",
          "name": "stderr",
          "text": [
            "/usr/local/lib/python3.7/dist-packages/sklearn/metrics/_classification.py:1318: UndefinedMetricWarning: Precision is ill-defined and being set to 0.0 in labels with no predicted samples. Use `zero_division` parameter to control this behavior.\n",
            "  _warn_prf(average, modifier, msg_start, len(result))\n"
          ]
        }
      ],
      "source": [
        "print(\"Score pour AdaBoost\")\n",
        "print(\"accuracy:\", np.round(accuracy_score(y_test,y_pred_ad),3))\n",
        "print(\"precision\", np.round(precision_score(y_test,y_pred_ad, average = 'weighted'),3))\n",
        "print(\"recall\", np.round(recall_score(y_test,y_pred_ad, average = 'weighted'),3))\n",
        "print(\"f1 score\" , np.round(f1_score(y_test,y_pred_ad, average = 'weighted'),3))"
      ]
    },
    {
      "cell_type": "markdown",
      "metadata": {
        "id": "l1bKgZ4bPA43"
      },
      "source": [
        "# Gradient Boosting"
      ]
    },
    {
      "cell_type": "code",
      "execution_count": 32,
      "metadata": {
        "colab": {
          "base_uri": "https://localhost:8080/"
        },
        "id": "zjkzvEoxPA44",
        "outputId": "45f3dba0-4ee7-4d82-ffa9-30dfc89efc0e"
      },
      "outputs": [
        {
          "output_type": "stream",
          "name": "stdout",
          "text": [
            "Meilleur modèle\n",
            "GradientBoostingClassifier(max_features=15, n_estimators=80)\n"
          ]
        }
      ],
      "source": [
        "param_grid = {'n_estimators':[30,50,60,80], \n",
        "             'learning_rate':[0.001,0.01, 0.1,1],\n",
        "             'criterion': ['friedman_mse', 'squared_error'],\n",
        "             'max_features': [5,10,15,20]}\n",
        "\n",
        "gb = GradientBoostingClassifier()\n",
        "search_gb= GridSearchCV(gb, \n",
        "                      param_grid, \n",
        "                      scoring=\"accuracy\",\n",
        "                      cv=cv,\n",
        "                      n_jobs=-1)\n",
        "search_gb.fit(X_train,y_train)\n",
        "print('Meilleur modèle')\n",
        "print(search_gb.best_estimator_)"
      ]
    },
    {
      "cell_type": "code",
      "execution_count": 33,
      "metadata": {
        "id": "EJAXjMJQPA45"
      },
      "outputs": [],
      "source": [
        "y_pred_gb = search_gb.best_estimator_.predict(X_test)"
      ]
    },
    {
      "cell_type": "code",
      "execution_count": 34,
      "metadata": {
        "colab": {
          "base_uri": "https://localhost:8080/",
          "height": 521
        },
        "id": "1ffjFnYJPA45",
        "outputId": "b0160cc6-b0c8-4a16-b482-4237d0499a6c"
      },
      "outputs": [
        {
          "output_type": "stream",
          "name": "stdout",
          "text": [
            "Confusion matrix (proportions) : \n",
            "[[0.9 0.  0.  0.  0.  0.  0.  0.  0.  0.  0.  0. ]\n",
            " [0.  0.  0.  0.  0.  0.  0.  0.4 0.  0.  0.  0.6]\n",
            " [0.2 0.  0.2 0.  0.  0.  0.2 0.2 0.  0.  0.  0. ]\n",
            " [0.3 0.  0.  0.3 0.  0.  0.  0.1 0.  0.  0.  0.2]\n",
            " [0.  0.  1.  0.  0.  0.  0.  0.  0.  0.  0.  0. ]\n",
            " [0.8 0.  0.  0.  0.  0.  0.  0.  0.  0.  0.  0.2]\n",
            " [0.1 0.  0.  0.2 0.  0.  0.6 0.  0.  0.  0.  0.1]\n",
            " [0.1 0.  0.  0.  0.  0.  0.  0.9 0.  0.  0.  0. ]\n",
            " [0.  0.  0.  0.  0.  0.  0.  0.1 0.6 0.  0.1 0.2]\n",
            " [0.4 0.  0.  0.  0.  0.  0.  0.  0.  0.3 0.  0.3]\n",
            " [0.1 0.  0.  0.  0.  0.  0.2 0.  0.  0.  0.4 0.2]\n",
            " [0.2 0.  0.  0.  0.  0.  0.  0.1 0.  0.  0.  0.7]]\n",
            " \n"
          ]
        },
        {
          "output_type": "display_data",
          "data": {
            "text/plain": [
              "<Figure size 432x288 with 2 Axes>"
            ],
            "image/png": "[encoded data removed]"
          },
          "metadata": {
            "needs_background": "light"
          }
        }
      ],
      "source": [
        "print(\"Confusion matrix (proportions) : \")\n",
        "cm = np.round(confusion_matrix(y_test,y_pred_gb,normalize='true'),1)\n",
        "print(np.round(cm,2))\n",
        "print(' ')\n",
        "ConfusionMatrixDisplay(cm).plot()\n",
        "plt.show()"
      ]
    },
    {
      "cell_type": "code",
      "execution_count": 35,
      "metadata": {
        "colab": {
          "base_uri": "https://localhost:8080/"
        },
        "id": "PmRq1A-APA46",
        "outputId": "872fe4a6-885e-4bf8-fd1d-7bf8ab2ad81a"
      },
      "outputs": [
        {
          "output_type": "stream",
          "name": "stdout",
          "text": [
            "Score pour Gradient boost\n",
            "accuracy: 0.844\n",
            "precision 0.841\n",
            "recall 0.844\n",
            "f1 score 0.836\n"
          ]
        },
        {
          "output_type": "stream",
          "name": "stderr",
          "text": [
            "/usr/local/lib/python3.7/dist-packages/sklearn/metrics/_classification.py:1318: UndefinedMetricWarning: Precision is ill-defined and being set to 0.0 in labels with no predicted samples. Use `zero_division` parameter to control this behavior.\n",
            "  _warn_prf(average, modifier, msg_start, len(result))\n"
          ]
        }
      ],
      "source": [
        "print(\"Score pour Gradient boost\")\n",
        "print(\"accuracy:\", np.round(accuracy_score(y_test,y_pred_gb),3))\n",
        "print(\"precision\", np.round(precision_score(y_test,y_pred_gb, average = 'weighted'),3))\n",
        "print(\"recall\", np.round(recall_score(y_test,y_pred_gb, average = 'weighted'),3))\n",
        "print(\"f1 score\" , np.round(f1_score(y_test,y_pred_gb, average = 'weighted'),3))"
      ]
    },
    {
      "cell_type": "markdown",
      "metadata": {
        "id": "N5ZHDFfmPA47"
      },
      "source": [
        "# Tableau de comparaison"
      ]
    },
    {
      "cell_type": "markdown",
      "metadata": {
        "id": "b4Y65ZLhPA48"
      },
      "source": [
        "| Méthode| accuracy | precision | recall | F1- score|\n",
        "| :-: | :-:  | :-: |  :-: |  :-: |\n",
        "| KNeighbors | 0.802 | 0.803 | 0.802 | 0.796|\n",
        "| Decision tree | 0.771 | 0.787 |0.771|0.774|\n",
        "| Random forest | 0.839 | 0.840 |0.839|0.830|\n",
        "| Adaboost | 0.783 | 0.755 |0.783|0.761|\n",
        "| Gradient boost | 0.844 | 0.841 | 0.844 | 0.846 | "
      ]
    }
  ],
  "metadata": {
    "kernelspec": {
      "display_name": "Python 3",
      "language": "python",
      "name": "python3"
    },
    "language_info": {
      "codemirror_mode": {
        "name": "ipython",
        "version": 3
      },
      "file_extension": ".py",
      "mimetype": "text/x-python",
      "name": "python",
      "nbconvert_exporter": "python",
      "pygments_lexer": "ipython3",
      "version": "3.6.13"
    },
    "colab": {
      "name": "Android.ipynb",
      "provenance": [],
      "collapsed_sections": []
    }
  },
  "nbformat": 4,
  "nbformat_minor": 0
}