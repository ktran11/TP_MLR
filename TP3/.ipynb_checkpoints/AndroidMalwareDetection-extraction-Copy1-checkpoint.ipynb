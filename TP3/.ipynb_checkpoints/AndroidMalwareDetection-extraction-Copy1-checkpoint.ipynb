{
 "cells": [
  {
   "cell_type": "markdown",
   "metadata": {},
   "source": [
    "## Détection et classification des logiciels malveillants sur Android\n",
    "\n",
    "source \n",
    "https://asterius.federation.edu.au/csmining.org/cdmc2020/\n",
    "\n",
    "AndMal2020-CDMC : \n",
    "\n",
    "La menace inégalée des logiciels malveillants Android est à l'origine de divers problèmes de sécurité sur Internet. L'industrie des malwares Android devient de plus en plus perturbatrice avec près de 12 000 nouvelles instances de malwares Android chaque jour. La détection des logiciels malveillants Android dans les smartphones est une cible essentielle pour que la cyber-communauté se débarrasse des échantillons de logiciels malveillants menaçants.\n",
    "\n",
    "Les logiciels malveillants Android sont l'une des menaces les plus graves sur Internet, qui a connu une recrudescence sans précédent ces dernières années. C'est un défi ouvert pour les experts en cybersécurité. \n",
    "\n",
    "La base de données considérée dans ce projet contient une liste plus de 31000 logiciels classés en 12 catégories et 191 familles. L'objectif est de proposer et comparer des algorithmes de machine learning pour identifier automatiquement la catégories de chacun des logiciels. \n",
    "\n",
    "Les données sont collectées à partir des fichiers au format Exceutable Linkage Format et recodées de la façon suivante. Les 2000 premiers  octets du fichier sont extraits. Des 0 sont  ajoutés si le fichier n'est pas assez long. Ces chaînes ASCII sont ensuite encodées par un simple code de chiffrement pour supprimer les informations sensibles et transmises à un encodeur base64 pour obtenir des représentations radix-64 lisibles. \n",
    "\n",
    "La catégorie et la famille de chaque logiciel est déterminée par des moteurs antivirus.\n",
    " \n",
    " Chaque ligne du fichier de données correspond donc à un programme excécutable. Les 2493 premières colonnes sont le résultat du chiffrage.  La colonne 2494 est le hash (identifiant). Et les 3 dernières colonnes donnent des informations sur le type de logiciel (famille, malveillant ou non). "
   ]
  },
  {
   "cell_type": "code",
   "execution_count": 189,
   "metadata": {},
   "outputs": [],
   "source": [
    "import matplotlib.pyplot as plt\n",
    "import numpy as np\n",
    "import pandas as pd\n",
    "import seaborn as sns\n",
    "\n",
    "from sklearn.preprocessing import LabelBinarizer, StandardScaler\n",
    "from sklearn.decomposition import PCA\n",
    "\n",
    "\n",
    "from sklearn.inspection import permutation_importance\n",
    "from sklearn.metrics import accuracy_score, confusion_matrix, f1_score, recall_score, precision_score, roc_auc_score, roc_curve, plot_roc_curve, ConfusionMatrixDisplay\n",
    "from sklearn.model_selection import KFold, train_test_split, cross_val_score, cross_validate, ShuffleSplit, GridSearchCV\n",
    "\n",
    "from sklearn import neighbors, linear_model\n",
    "from sklearn.discriminant_analysis import LinearDiscriminantAnalysis\n",
    "from sklearn.ensemble import AdaBoostClassifier, GradientBoostingClassifier, RandomForestClassifier\n",
    "from sklearn.tree import DecisionTreeClassifier, plot_tree "
   ]
  },
  {
   "cell_type": "markdown",
   "metadata": {},
   "source": [
    "## 1 - Importation des données"
   ]
  },
  {
   "cell_type": "code",
   "execution_count": 2,
   "metadata": {},
   "outputs": [],
   "source": [
    "nb_binome = 18022495 # nombre à remplacer par votre numéro de binome\n",
    "np.random.seed(nb_binome)"
   ]
  },
  {
   "cell_type": "code",
   "execution_count": 11,
   "metadata": {},
   "outputs": [],
   "source": [
    "n  = 31405\n",
    "p = 0.1\n",
    "Skiprows =  np.where(np.random.uniform(size=(n))>p)[0]\n",
    "\n",
    "varnames = [str(i) for i in range(2497)]\n",
    "data1 = pd.read_csv(\"https://perso.univ-rennes1.fr/valerie.monbet/MachineLearning/AndroidMalware_Training_set.csv\",\n",
    "                  sep=\",\",skiprows=Skiprows,\n",
    "                  names = varnames,\n",
    "                  header=None)"
   ]
  },
  {
   "cell_type": "code",
   "execution_count": 12,
   "metadata": {},
   "outputs": [
    {
     "data": {
      "text/html": [
       "<div>\n",
       "<style scoped>\n",
       "    .dataframe tbody tr th:only-of-type {\n",
       "        vertical-align: middle;\n",
       "    }\n",
       "\n",
       "    .dataframe tbody tr th {\n",
       "        vertical-align: top;\n",
       "    }\n",
       "\n",
       "    .dataframe thead th {\n",
       "        text-align: right;\n",
       "    }\n",
       "</style>\n",
       "<table border=\"1\" class=\"dataframe\">\n",
       "  <thead>\n",
       "    <tr style=\"text-align: right;\">\n",
       "      <th></th>\n",
       "      <th>0</th>\n",
       "      <th>1</th>\n",
       "      <th>2</th>\n",
       "      <th>3</th>\n",
       "      <th>4</th>\n",
       "      <th>5</th>\n",
       "      <th>6</th>\n",
       "      <th>7</th>\n",
       "      <th>8</th>\n",
       "      <th>9</th>\n",
       "      <th>...</th>\n",
       "      <th>2487</th>\n",
       "      <th>2488</th>\n",
       "      <th>2489</th>\n",
       "      <th>2490</th>\n",
       "      <th>2491</th>\n",
       "      <th>2492</th>\n",
       "      <th>2493</th>\n",
       "      <th>2494</th>\n",
       "      <th>2495</th>\n",
       "      <th>2496</th>\n",
       "    </tr>\n",
       "  </thead>\n",
       "  <tbody>\n",
       "    <tr>\n",
       "      <th>0</th>\n",
       "      <td>84</td>\n",
       "      <td>0</td>\n",
       "      <td>0.0</td>\n",
       "      <td>15</td>\n",
       "      <td>22</td>\n",
       "      <td>13</td>\n",
       "      <td>3</td>\n",
       "      <td>31</td>\n",
       "      <td>13</td>\n",
       "      <td>0.0</td>\n",
       "      <td>...</td>\n",
       "      <td>0.0</td>\n",
       "      <td>0.0</td>\n",
       "      <td>0.0</td>\n",
       "      <td>0.0</td>\n",
       "      <td>0.0</td>\n",
       "      <td>0.0</td>\n",
       "      <td>5def2700263792997240751d0b9677b3</td>\n",
       "      <td>smsreg</td>\n",
       "      <td>Riskware</td>\n",
       "      <td>Malware</td>\n",
       "    </tr>\n",
       "    <tr>\n",
       "      <th>1</th>\n",
       "      <td>2</td>\n",
       "      <td>0</td>\n",
       "      <td>0.0</td>\n",
       "      <td>4</td>\n",
       "      <td>1</td>\n",
       "      <td>1</td>\n",
       "      <td>3</td>\n",
       "      <td>21</td>\n",
       "      <td>19</td>\n",
       "      <td>0.0</td>\n",
       "      <td>...</td>\n",
       "      <td>0.0</td>\n",
       "      <td>0.0</td>\n",
       "      <td>0.0</td>\n",
       "      <td>0.0</td>\n",
       "      <td>0.0</td>\n",
       "      <td>0.0</td>\n",
       "      <td>71f46ccf85adb057d9fa5881c91789cd</td>\n",
       "      <td>smsspy</td>\n",
       "      <td>Ransomware</td>\n",
       "      <td>Malware</td>\n",
       "    </tr>\n",
       "    <tr>\n",
       "      <th>2</th>\n",
       "      <td>84</td>\n",
       "      <td>0</td>\n",
       "      <td>0.0</td>\n",
       "      <td>14</td>\n",
       "      <td>22</td>\n",
       "      <td>11</td>\n",
       "      <td>2</td>\n",
       "      <td>28</td>\n",
       "      <td>12</td>\n",
       "      <td>0.0</td>\n",
       "      <td>...</td>\n",
       "      <td>0.0</td>\n",
       "      <td>0.0</td>\n",
       "      <td>0.0</td>\n",
       "      <td>0.0</td>\n",
       "      <td>0.0</td>\n",
       "      <td>0.0</td>\n",
       "      <td>aae0cbb0db82d00c9c31bd12a5e28e00</td>\n",
       "      <td>smsreg</td>\n",
       "      <td>Riskware</td>\n",
       "      <td>Malware</td>\n",
       "    </tr>\n",
       "    <tr>\n",
       "      <th>3</th>\n",
       "      <td>3</td>\n",
       "      <td>0</td>\n",
       "      <td>0.0</td>\n",
       "      <td>652</td>\n",
       "      <td>8</td>\n",
       "      <td>3</td>\n",
       "      <td>0</td>\n",
       "      <td>13</td>\n",
       "      <td>25</td>\n",
       "      <td>0.0</td>\n",
       "      <td>...</td>\n",
       "      <td>0.0</td>\n",
       "      <td>0.0</td>\n",
       "      <td>0.0</td>\n",
       "      <td>0.0</td>\n",
       "      <td>0.0</td>\n",
       "      <td>0.0</td>\n",
       "      <td>58f0410b9cd3e90f4a2247cc2851062f</td>\n",
       "      <td>shedun</td>\n",
       "      <td>Adware</td>\n",
       "      <td>Malware</td>\n",
       "    </tr>\n",
       "    <tr>\n",
       "      <th>4</th>\n",
       "      <td>311</td>\n",
       "      <td>0</td>\n",
       "      <td>0.0</td>\n",
       "      <td>13</td>\n",
       "      <td>5</td>\n",
       "      <td>7</td>\n",
       "      <td>2</td>\n",
       "      <td>15</td>\n",
       "      <td>6</td>\n",
       "      <td>0.0</td>\n",
       "      <td>...</td>\n",
       "      <td>0.0</td>\n",
       "      <td>0.0</td>\n",
       "      <td>0.0</td>\n",
       "      <td>0.0</td>\n",
       "      <td>0.0</td>\n",
       "      <td>0.0</td>\n",
       "      <td>6f79bd2fe257474d670365bed19c5ca3</td>\n",
       "      <td>smforw</td>\n",
       "      <td>Spyware</td>\n",
       "      <td>Malware</td>\n",
       "    </tr>\n",
       "  </tbody>\n",
       "</table>\n",
       "<p>5 rows × 2497 columns</p>\n",
       "</div>"
      ],
      "text/plain": [
       "     0  1    2    3   4   5  6   7   8    9  ...  2487  2488  2489  2490  \\\n",
       "0   84  0  0.0   15  22  13  3  31  13  0.0  ...   0.0   0.0   0.0   0.0   \n",
       "1    2  0  0.0    4   1   1  3  21  19  0.0  ...   0.0   0.0   0.0   0.0   \n",
       "2   84  0  0.0   14  22  11  2  28  12  0.0  ...   0.0   0.0   0.0   0.0   \n",
       "3    3  0  0.0  652   8   3  0  13  25  0.0  ...   0.0   0.0   0.0   0.0   \n",
       "4  311  0  0.0   13   5   7  2  15   6  0.0  ...   0.0   0.0   0.0   0.0   \n",
       "\n",
       "   2491  2492                              2493    2494        2495     2496  \n",
       "0   0.0   0.0  5def2700263792997240751d0b9677b3  smsreg    Riskware  Malware  \n",
       "1   0.0   0.0  71f46ccf85adb057d9fa5881c91789cd  smsspy  Ransomware  Malware  \n",
       "2   0.0   0.0  aae0cbb0db82d00c9c31bd12a5e28e00  smsreg    Riskware  Malware  \n",
       "3   0.0   0.0  58f0410b9cd3e90f4a2247cc2851062f  shedun      Adware  Malware  \n",
       "4   0.0   0.0  6f79bd2fe257474d670365bed19c5ca3  smforw     Spyware  Malware  \n",
       "\n",
       "[5 rows x 2497 columns]"
      ]
     },
     "execution_count": 12,
     "metadata": {},
     "output_type": "execute_result"
    }
   ],
   "source": [
    "data1.head()"
   ]
  },
  {
   "cell_type": "markdown",
   "metadata": {},
   "source": [
    "**On retire les colonnes  2493 (hash : identifiants), 2494 (famille), 2496 (Malware ou non). Ces informations ne nous aiderons pas pour la classification**"
   ]
  },
  {
   "cell_type": "code",
   "execution_count": 13,
   "metadata": {},
   "outputs": [],
   "source": [
    "data1 = data1.drop(['2493','2494','2496'], axis = 1)"
   ]
  },
  {
   "cell_type": "code",
   "execution_count": 14,
   "metadata": {},
   "outputs": [
    {
     "data": {
      "text/html": [
       "<div>\n",
       "<style scoped>\n",
       "    .dataframe tbody tr th:only-of-type {\n",
       "        vertical-align: middle;\n",
       "    }\n",
       "\n",
       "    .dataframe tbody tr th {\n",
       "        vertical-align: top;\n",
       "    }\n",
       "\n",
       "    .dataframe thead th {\n",
       "        text-align: right;\n",
       "    }\n",
       "</style>\n",
       "<table border=\"1\" class=\"dataframe\">\n",
       "  <thead>\n",
       "    <tr style=\"text-align: right;\">\n",
       "      <th></th>\n",
       "      <th>0</th>\n",
       "      <th>1</th>\n",
       "      <th>2</th>\n",
       "      <th>3</th>\n",
       "      <th>4</th>\n",
       "      <th>5</th>\n",
       "      <th>6</th>\n",
       "      <th>7</th>\n",
       "      <th>8</th>\n",
       "      <th>9</th>\n",
       "      <th>...</th>\n",
       "      <th>2484</th>\n",
       "      <th>2485</th>\n",
       "      <th>2486</th>\n",
       "      <th>2487</th>\n",
       "      <th>2488</th>\n",
       "      <th>2489</th>\n",
       "      <th>2490</th>\n",
       "      <th>2491</th>\n",
       "      <th>2492</th>\n",
       "      <th>2495</th>\n",
       "    </tr>\n",
       "  </thead>\n",
       "  <tbody>\n",
       "    <tr>\n",
       "      <th>0</th>\n",
       "      <td>84</td>\n",
       "      <td>0</td>\n",
       "      <td>0.0</td>\n",
       "      <td>15</td>\n",
       "      <td>22</td>\n",
       "      <td>13</td>\n",
       "      <td>3</td>\n",
       "      <td>31</td>\n",
       "      <td>13</td>\n",
       "      <td>0.0</td>\n",
       "      <td>...</td>\n",
       "      <td>0.0</td>\n",
       "      <td>0.0</td>\n",
       "      <td>0.0</td>\n",
       "      <td>0.0</td>\n",
       "      <td>0.0</td>\n",
       "      <td>0.0</td>\n",
       "      <td>0.0</td>\n",
       "      <td>0.0</td>\n",
       "      <td>0.0</td>\n",
       "      <td>Riskware</td>\n",
       "    </tr>\n",
       "    <tr>\n",
       "      <th>1</th>\n",
       "      <td>2</td>\n",
       "      <td>0</td>\n",
       "      <td>0.0</td>\n",
       "      <td>4</td>\n",
       "      <td>1</td>\n",
       "      <td>1</td>\n",
       "      <td>3</td>\n",
       "      <td>21</td>\n",
       "      <td>19</td>\n",
       "      <td>0.0</td>\n",
       "      <td>...</td>\n",
       "      <td>0.0</td>\n",
       "      <td>0.0</td>\n",
       "      <td>0.0</td>\n",
       "      <td>0.0</td>\n",
       "      <td>0.0</td>\n",
       "      <td>0.0</td>\n",
       "      <td>0.0</td>\n",
       "      <td>0.0</td>\n",
       "      <td>0.0</td>\n",
       "      <td>Ransomware</td>\n",
       "    </tr>\n",
       "    <tr>\n",
       "      <th>2</th>\n",
       "      <td>84</td>\n",
       "      <td>0</td>\n",
       "      <td>0.0</td>\n",
       "      <td>14</td>\n",
       "      <td>22</td>\n",
       "      <td>11</td>\n",
       "      <td>2</td>\n",
       "      <td>28</td>\n",
       "      <td>12</td>\n",
       "      <td>0.0</td>\n",
       "      <td>...</td>\n",
       "      <td>0.0</td>\n",
       "      <td>0.0</td>\n",
       "      <td>0.0</td>\n",
       "      <td>0.0</td>\n",
       "      <td>0.0</td>\n",
       "      <td>0.0</td>\n",
       "      <td>0.0</td>\n",
       "      <td>0.0</td>\n",
       "      <td>0.0</td>\n",
       "      <td>Riskware</td>\n",
       "    </tr>\n",
       "    <tr>\n",
       "      <th>3</th>\n",
       "      <td>3</td>\n",
       "      <td>0</td>\n",
       "      <td>0.0</td>\n",
       "      <td>652</td>\n",
       "      <td>8</td>\n",
       "      <td>3</td>\n",
       "      <td>0</td>\n",
       "      <td>13</td>\n",
       "      <td>25</td>\n",
       "      <td>0.0</td>\n",
       "      <td>...</td>\n",
       "      <td>0.0</td>\n",
       "      <td>0.0</td>\n",
       "      <td>0.0</td>\n",
       "      <td>0.0</td>\n",
       "      <td>0.0</td>\n",
       "      <td>0.0</td>\n",
       "      <td>0.0</td>\n",
       "      <td>0.0</td>\n",
       "      <td>0.0</td>\n",
       "      <td>Adware</td>\n",
       "    </tr>\n",
       "    <tr>\n",
       "      <th>4</th>\n",
       "      <td>311</td>\n",
       "      <td>0</td>\n",
       "      <td>0.0</td>\n",
       "      <td>13</td>\n",
       "      <td>5</td>\n",
       "      <td>7</td>\n",
       "      <td>2</td>\n",
       "      <td>15</td>\n",
       "      <td>6</td>\n",
       "      <td>0.0</td>\n",
       "      <td>...</td>\n",
       "      <td>0.0</td>\n",
       "      <td>0.0</td>\n",
       "      <td>0.0</td>\n",
       "      <td>0.0</td>\n",
       "      <td>0.0</td>\n",
       "      <td>0.0</td>\n",
       "      <td>0.0</td>\n",
       "      <td>0.0</td>\n",
       "      <td>0.0</td>\n",
       "      <td>Spyware</td>\n",
       "    </tr>\n",
       "  </tbody>\n",
       "</table>\n",
       "<p>5 rows × 2494 columns</p>\n",
       "</div>"
      ],
      "text/plain": [
       "     0  1    2    3   4   5  6   7   8    9  ...  2484  2485  2486  2487  \\\n",
       "0   84  0  0.0   15  22  13  3  31  13  0.0  ...   0.0   0.0   0.0   0.0   \n",
       "1    2  0  0.0    4   1   1  3  21  19  0.0  ...   0.0   0.0   0.0   0.0   \n",
       "2   84  0  0.0   14  22  11  2  28  12  0.0  ...   0.0   0.0   0.0   0.0   \n",
       "3    3  0  0.0  652   8   3  0  13  25  0.0  ...   0.0   0.0   0.0   0.0   \n",
       "4  311  0  0.0   13   5   7  2  15   6  0.0  ...   0.0   0.0   0.0   0.0   \n",
       "\n",
       "   2488  2489  2490  2491  2492        2495  \n",
       "0   0.0   0.0   0.0   0.0   0.0    Riskware  \n",
       "1   0.0   0.0   0.0   0.0   0.0  Ransomware  \n",
       "2   0.0   0.0   0.0   0.0   0.0    Riskware  \n",
       "3   0.0   0.0   0.0   0.0   0.0      Adware  \n",
       "4   0.0   0.0   0.0   0.0   0.0     Spyware  \n",
       "\n",
       "[5 rows x 2494 columns]"
      ]
     },
     "execution_count": 14,
     "metadata": {},
     "output_type": "execute_result"
    }
   ],
   "source": [
    "data1.head()"
   ]
  },
  {
   "cell_type": "code",
   "execution_count": 15,
   "metadata": {
    "scrolled": true
   },
   "outputs": [
    {
     "data": {
      "text/plain": [
       "Text(0.5, 1.0, 'categorie')"
      ]
     },
     "execution_count": 15,
     "metadata": {},
     "output_type": "execute_result"
    },
    {
     "data": {
      "image/png": "[encoded data removed]",
      "text/plain": [
       "<Figure size 1440x576 with 1 Axes>"
      ]
     },
     "metadata": {
      "needs_background": "light"
     },
     "output_type": "display_data"
    }
   ],
   "source": [
    "plt.figure(figsize=(20,8))\n",
    "sns.countplot(x=\"2495\",data=data1,palette=\"Blues_d\")\n",
    "plt.title(\"categorie\")"
   ]
  },
  {
   "cell_type": "markdown",
   "metadata": {},
   "source": [
    "**On regarde les variables dont la variance est nulle donc dont l'information est inutile et on retire ces colonnes.**"
   ]
  },
  {
   "cell_type": "code",
   "execution_count": 20,
   "metadata": {},
   "outputs": [
    {
     "name": "stdout",
     "output_type": "stream",
     "text": [
      "(2493,)\n",
      "Variables avec écart-type nul :  (array([  30,   42,   44, ..., 2490, 2491, 2492]),)\n",
      "Variables avec écart-type non défini :  (array([], dtype=int64),)\n"
     ]
    },
    {
     "name": "stderr",
     "output_type": "stream",
     "text": [
      "/tmp/ipykernel_7165/1140024124.py:1: FutureWarning: Dropping of nuisance columns in DataFrame reductions (with 'numeric_only=None') is deprecated; in a future version this will raise TypeError.  Select only valid columns before calling the reduction.\n",
      "  sd = data1.std()\n"
     ]
    }
   ],
   "source": [
    "sd = data1.std()\n",
    "print(sd.shape)\n",
    "print(\"Variables avec écart-type nul : \",np.where(sd==0))\n",
    "print(\"Variables avec écart-type non défini : \",np.where(np.isnan(sd)))\n",
    "\n",
    "data = data1.drop( np.array(np.where(sd==0)[0],dtype = str) , axis = 1)"
   ]
  },
  {
   "cell_type": "markdown",
   "metadata": {},
   "source": [
    "**La colonne qui va nous intéresser est la colonne 2495. On veut avoir des données binaires pour pouvoir les interpréter. On transforme donc les données en tableau numpy. A changer selon la catégorie voulue dans l'ordre alphabétique (Adware, Backdoor, Banker, Dropper, Fileinfector, PUA, Ransomware, Riskware, Scareware, SMS, Spyware,   Trojan).**"
   ]
  },
  {
   "cell_type": "code",
   "execution_count": 27,
   "metadata": {},
   "outputs": [
    {
     "data": {
      "text/plain": [
       "array(['Riskware', 'Ransomware', 'Riskware', ..., 'Adware', 'Adware',\n",
       "       'Trojan'], dtype=object)"
      ]
     },
     "execution_count": 27,
     "metadata": {},
     "output_type": "execute_result"
    }
   ],
   "source": [
    "data.to_numpy()[:,-1]"
   ]
  },
  {
   "cell_type": "code",
   "execution_count": 69,
   "metadata": {},
   "outputs": [],
   "source": [
    "data_np = data.to_numpy()\n",
    "\n",
    "X = data_np[:,:-1]\n",
    "Y = data_np[:,-1]\n",
    "#Y_binaire = LabelBinarizer().fit_transform(Y)\n",
    "#y = Y_binaire\n",
    "## Préparation des données pour le machine learning\n",
    "X_train, X_test, y_train, y_test = train_test_split(X, Y, test_size=0.7, random_state=42)"
   ]
  },
  {
   "cell_type": "code",
   "execution_count": 70,
   "metadata": {},
   "outputs": [],
   "source": [
    "scaler = StandardScaler()\n",
    "X_train_sc = scaler.fit_transform(X_train)\n",
    "X_test_sc = scaler.transform(X_test)"
   ]
  },
  {
   "cell_type": "markdown",
   "metadata": {},
   "source": [
    "# K Neigbors "
   ]
  },
  {
   "cell_type": "code",
   "execution_count": 262,
   "metadata": {},
   "outputs": [
    {
     "name": "stdout",
     "output_type": "stream",
     "text": [
      "Meilleur modèle\n",
      "KNeighborsClassifier(algorithm='ball_tree', leaf_size=5, metric='euclidean',\n",
      "                     n_neighbors=1)\n"
     ]
    }
   ],
   "source": [
    "# Generation de B ensemble d'entrainement/validation \n",
    "B = 5\n",
    "cv = KFold(n_splits=B, random_state=None, shuffle=True)\n",
    "knn = neighbors.KNeighborsClassifier()\n",
    "param_grid = [{'n_neighbors': [1,5,10,20,30], \n",
    "               'weights': ['uniform','distance'],\n",
    "               'algorithm': ['auto', 'ball_tree', 'brute'],\n",
    "               'leaf_size': [5,10,20,30,40],\n",
    "               'metric': ['euclidean','manhattan']}]\n",
    "# Optimization of the hyperparameters\n",
    "search_knn = GridSearchCV(knn, \n",
    "                      param_grid, \n",
    "                      scoring=\"accuracy\",\n",
    "                      cv=cv,\n",
    "                      n_jobs=-1) # n_jobs=-1 permet d'utiliser tous les processeurs (calcul parallèle)\n",
    "search_knn.fit(X_train,y_train)\n",
    "print('Meilleur modèle')\n",
    "print(search_knn.best_estimator_)"
   ]
  },
  {
   "cell_type": "code",
   "execution_count": 263,
   "metadata": {},
   "outputs": [],
   "source": [
    "y_pred_knn = search_knn.best_estimator_.predict(X_test)"
   ]
  },
  {
   "cell_type": "code",
   "execution_count": 264,
   "metadata": {},
   "outputs": [
    {
     "name": "stdout",
     "output_type": "stream",
     "text": [
      "Confusion matrix (proportions) : \n",
      "[[0.8 0.  0.  0.  0.  0.  0.  0.1 0.  0.  0.  0. ]\n",
      " [0.  0.2 0.  0.2 0.  0.  0.  0.5 0.  0.  0.  0. ]\n",
      " [0.2 0.  0.  0.  0.  0.  0.4 0.  0.  0.  0.  0.4]\n",
      " [0.1 0.  0.  0.1 0.1 0.  0.2 0.1 0.2 0.  0.2 0. ]\n",
      " [0.  0.  0.  0.  0.7 0.  0.  0.  0.  0.  0.  0.3]\n",
      " [0.3 0.  0.  0.1 0.  0.  0.  0.4 0.  0.1 0.1 0. ]\n",
      " [0.  0.  0.  0.  0.  0.  0.8 0.  0.2 0.  0.  0. ]\n",
      " [0.1 0.  0.  0.  0.  0.  0.  0.9 0.  0.  0.  0. ]\n",
      " [0.1 0.  0.  0.  0.  0.  0.  0.1 0.7 0.  0.1 0.1]\n",
      " [0.1 0.  0.  0.  0.  0.  0.1 0.  0.1 0.5 0.  0.2]\n",
      " [0.  0.1 0.  0.1 0.1 0.  0.1 0.  0.  0.  0.7 0. ]\n",
      " [0.1 0.  0.  0.1 0.  0.  0.  0.1 0.  0.  0.  0.6]]\n",
      " \n"
     ]
    },
    {
     "data": {
      "image/png": "[encoded data removed]",
      "text/plain": [
       "<Figure size 432x288 with 2 Axes>"
      ]
     },
     "metadata": {
      "needs_background": "light"
     },
     "output_type": "display_data"
    }
   ],
   "source": [
    "print(\"Confusion matrix (proportions) : \")\n",
    "cm = np.round(confusion_matrix(y_test,y_pred_knn,normalize='true'),1)\n",
    "print(np.round(cm,2))\n",
    "print(' ')\n",
    "ConfusionMatrixDisplay(cm).plot()\n",
    "plt.show()"
   ]
  },
  {
   "cell_type": "code",
   "execution_count": 278,
   "metadata": {},
   "outputs": [
    {
     "name": "stdout",
     "output_type": "stream",
     "text": [
      "Score pour KNeighbors\n",
      "accuracy: 0.774\n",
      "precision 0.408\n",
      "recall 0.495\n",
      "f1 score 0.439\n"
     ]
    },
    {
     "name": "stderr",
     "output_type": "stream",
     "text": [
      "/home/kevin/anaconda3/lib/python3.8/site-packages/sklearn/metrics/_classification.py:1308: UndefinedMetricWarning: Precision is ill-defined and being set to 0.0 in labels with no predicted samples. Use `zero_division` parameter to control this behavior.\n",
      "  _warn_prf(average, modifier, msg_start, len(result))\n"
     ]
    }
   ],
   "source": [
    "print(\"Score pour KNeighbors\")\n",
    "print(\"accuracy:\", np.round(accuracy_score(y_test,y_pred_knn),3))\n",
    "print(\"precision\", np.round(precision_score(y_test,y_pred_knn, average = 'macro'),3))\n",
    "print(\"recall\", np.round(recall_score(y_test,y_pred_knn, average = 'macro'),3))\n",
    "print(\"f1 score\" , np.round(f1_score(y_test,y_pred_knn, average = 'macro'),3))"
   ]
  },
  {
   "cell_type": "markdown",
   "metadata": {},
   "source": [
    "# Decision Tree"
   ]
  },
  {
   "cell_type": "code",
   "execution_count": 267,
   "metadata": {},
   "outputs": [
    {
     "name": "stdout",
     "output_type": "stream",
     "text": [
      "Meilleur modèle\n",
      "DecisionTreeClassifier(max_depth=25, max_features='log2', splitter='random')\n"
     ]
    }
   ],
   "source": [
    "B = 5\n",
    "cv = KFold(n_splits=B, random_state=4, shuffle=True)\n",
    "\n",
    "clf = DecisionTreeClassifier()\n",
    "param_grid = [{'criterion': ['gini', 'entropy'],\n",
    "               'splitter': ['best','random'],\n",
    "               'max_depth': [5,10,15,20,25],\n",
    "               'max_features': ['auto', 'sqrt', 'log2']}]\n",
    "# Optimization of the hyperparameters\n",
    "search_tree = GridSearchCV(clf, \n",
    "                      param_grid, \n",
    "                      scoring=\"accuracy\",\n",
    "                      cv=cv,\n",
    "                      n_jobs=-1) # n_jobs=-1 permet d'utiliser tous les processeurs (calcul parallèle)\n",
    "search_tree.fit(X_train,y_train)\n",
    "print('Meilleur modèle')\n",
    "print(search_tree.best_estimator_)"
   ]
  },
  {
   "cell_type": "code",
   "execution_count": 268,
   "metadata": {},
   "outputs": [
    {
     "name": "stdout",
     "output_type": "stream",
     "text": [
      "Confusion matrix (proportions) : \n",
      "[[0.8 0.  0.  0.  0.  0.  0.  0.1 0.  0.  0.  0. ]\n",
      " [0.2 0.  0.  0.  0.  0.  0.  0.8 0.  0.  0.  0. ]\n",
      " [0.  0.  0.  0.  0.2 0.  0.6 0.2 0.  0.  0.  0. ]\n",
      " [0.  0.  0.  0.4 0.  0.  0.2 0.2 0.  0.  0.1 0. ]\n",
      " [0.  0.  0.  0.  0.7 0.  0.  0.3 0.  0.  0.  0. ]\n",
      " [0.2 0.2 0.  0.  0.  0.1 0.  0.2 0.  0.1 0.  0.2]\n",
      " [0.  0.  0.  0.  0.  0.  0.9 0.  0.  0.  0.  0. ]\n",
      " [0.  0.  0.  0.  0.  0.  0.  0.9 0.  0.  0.  0. ]\n",
      " [0.1 0.  0.  0.  0.  0.  0.  0.1 0.7 0.  0.  0.1]\n",
      " [0.2 0.  0.  0.  0.  0.  0.  0.1 0.1 0.5 0.  0.1]\n",
      " [0.1 0.  0.  0.1 0.  0.  0.2 0.2 0.  0.  0.5 0. ]\n",
      " [0.1 0.  0.  0.  0.  0.  0.  0.2 0.  0.  0.  0.5]]\n",
      " \n"
     ]
    },
    {
     "data": {
      "image/png": "[encoded data removed]",
      "text/plain": [
       "<Figure size 432x288 with 2 Axes>"
      ]
     },
     "metadata": {
      "needs_background": "light"
     },
     "output_type": "display_data"
    }
   ],
   "source": [
    "y_pred_tree = search_tree.best_estimator_.predict(X_test)\n",
    "print(\"Confusion matrix (proportions) : \")\n",
    "cm = np.round(confusion_matrix(y_test,y_pred_tree,normalize='true'),1)\n",
    "print(np.round(cm,2))\n",
    "print(' ')\n",
    "ConfusionMatrixDisplay(cm).plot()\n",
    "plt.show()"
   ]
  },
  {
   "cell_type": "code",
   "execution_count": 279,
   "metadata": {},
   "outputs": [
    {
     "name": "stdout",
     "output_type": "stream",
     "text": [
      "Score pour Decision Tree\n",
      "accuracy: 0.81\n",
      "precision 0.542\n",
      "recall 0.501\n",
      "f1 score 0.508\n"
     ]
    }
   ],
   "source": [
    "print(\"Score pour Decision Tree\")\n",
    "print(\"accuracy:\", np.round(accuracy_score(y_test,y_pred_tree),3))\n",
    "print(\"precision\", np.round(precision_score(y_test,y_pred_tree, average = 'macro'),3))\n",
    "print(\"recall\", np.round(recall_score(y_test,y_pred_tree, average = 'macro'),3))\n",
    "print(\"f1 score\" , np.round(f1_score(y_test,y_pred_tree, average = 'macro'),3))"
   ]
  },
  {
   "cell_type": "markdown",
   "metadata": {},
   "source": [
    "# Random Forest"
   ]
  },
  {
   "cell_type": "code",
   "execution_count": 56,
   "metadata": {},
   "outputs": [
    {
     "name": "stdout",
     "output_type": "stream",
     "text": [
      "Meilleur modèle\n",
      "RandomForestClassifier(max_depth=20, max_features=30)\n"
     ]
    }
   ],
   "source": [
    "param_grid = {'criterion': ['gini', 'entropy'],  \n",
    "              'max_depth': [3,5,10,20],\n",
    "              'max_features': [10,15,20,30,40]}\n",
    "\n",
    "rf = RandomForestClassifier()\n",
    "search_rf = GridSearchCV(rf, \n",
    "                      param_grid, \n",
    "                      scoring=\"accuracy\",\n",
    "                      cv=cv,\n",
    "                      n_jobs=-1)\n",
    "search_rf.fit(X_train,y_train)\n",
    "print('Meilleur modèle')\n",
    "print(search_rf.best_estimator_)"
   ]
  },
  {
   "cell_type": "code",
   "execution_count": 57,
   "metadata": {},
   "outputs": [
    {
     "name": "stdout",
     "output_type": "stream",
     "text": [
      "Confusion matrix (proportions) : \n",
      "[[0.9 0.  0.  0.  0.  0.  0.  0.  0.  0.  0.  0. ]\n",
      " [0.  0.  0.  0.  0.  0.  0.  0.8 0.  0.  0.  0.2]\n",
      " [0.2 0.  0.2 0.  0.  0.  0.2 0.2 0.  0.  0.  0. ]\n",
      " [0.4 0.  0.  0.3 0.  0.  0.1 0.  0.  0.  0.  0.1]\n",
      " [0.  0.  1.  0.  0.  0.  0.  0.  0.  0.  0.  0. ]\n",
      " [1.  0.  0.  0.  0.  0.  0.  0.  0.  0.  0.  0. ]\n",
      " [0.  0.  0.  0.2 0.  0.  0.6 0.1 0.  0.  0.  0.1]\n",
      " [0.1 0.  0.  0.  0.  0.  0.  0.9 0.  0.  0.  0. ]\n",
      " [0.2 0.  0.  0.  0.  0.  0.  0.  0.5 0.  0.  0.3]\n",
      " [0.4 0.  0.  0.  0.  0.  0.  0.  0.  0.3 0.  0.3]\n",
      " [0.1 0.  0.  0.  0.  0.  0.2 0.1 0.  0.  0.4 0.1]\n",
      " [0.3 0.  0.  0.  0.  0.  0.  0.1 0.  0.  0.  0.6]]\n",
      " \n"
     ]
    },
    {
     "data": {
      "image/png": "[encoded data removed]",
      "text/plain": [
       "<Figure size 432x288 with 2 Axes>"
      ]
     },
     "metadata": {
      "needs_background": "light"
     },
     "output_type": "display_data"
    }
   ],
   "source": [
    "y_pred_rf = search_rf.best_estimator_.predict(X_test)\n",
    "print(\"Confusion matrix (proportions) : \")\n",
    "cm = np.round(confusion_matrix(y_test,y_pred_rf,normalize='true'),1)\n",
    "print(np.round(cm,2))\n",
    "print(' ')\n",
    "ConfusionMatrixDisplay(cm).plot()\n",
    "plt.show()"
   ]
  },
  {
   "cell_type": "code",
   "execution_count": 58,
   "metadata": {},
   "outputs": [
    {
     "name": "stdout",
     "output_type": "stream",
     "text": [
      "Score pour Random Forest\n",
      "accuracy: 0.833\n",
      "precision 0.493\n",
      "recall 0.397\n",
      "f1 score 0.422\n"
     ]
    },
    {
     "name": "stderr",
     "output_type": "stream",
     "text": [
      "/home/kevin/anaconda3/lib/python3.8/site-packages/sklearn/metrics/_classification.py:1308: UndefinedMetricWarning: Precision is ill-defined and being set to 0.0 in labels with no predicted samples. Use `zero_division` parameter to control this behavior.\n",
      "  _warn_prf(average, modifier, msg_start, len(result))\n"
     ]
    }
   ],
   "source": [
    "print(\"Score pour Random Forest\")\n",
    "print(\"accuracy:\", np.round(accuracy_score(y_test,y_pred_rf),3))\n",
    "print(\"precision\", np.round(precision_score(y_test,y_pred_rf, average = 'macro'),3))\n",
    "print(\"recall\", np.round(recall_score(y_test,y_pred_rf, average = 'macro'),3))\n",
    "print(\"f1 score\" , np.round(f1_score(y_test,y_pred_rf, average = 'macro'),3))"
   ]
  },
  {
   "cell_type": "markdown",
   "metadata": {},
   "source": [
    "# AdaBoost"
   ]
  },
  {
   "cell_type": "code",
   "execution_count": 51,
   "metadata": {},
   "outputs": [
    {
     "name": "stdout",
     "output_type": "stream",
     "text": [
      "Meilleur modèle\n",
      "AdaBoostClassifier(base_estimator=DecisionTreeClassifier(max_depth=3),\n",
      "                   learning_rate=0.01)\n"
     ]
    }
   ],
   "source": [
    "param_grid = {'n_estimators':[10,30,50,60,80], \n",
    "             'learning_rate':[0.001,0.01, 0.1,1]}\n",
    "\n",
    "ad = AdaBoostClassifier(DecisionTreeClassifier(max_depth=3))\n",
    "search_ad= GridSearchCV(ad, \n",
    "                      param_grid, \n",
    "                      scoring=\"accuracy\",\n",
    "                      cv=cv,\n",
    "                      n_jobs=-1)\n",
    "search_ad.fit(X_train,y_train)\n",
    "print('Meilleur modèle')\n",
    "print(search_ad.best_estimator_)"
   ]
  },
  {
   "cell_type": "code",
   "execution_count": 52,
   "metadata": {},
   "outputs": [],
   "source": [
    "y_pred_ad = search_ad.best_estimator_.predict(X_test)"
   ]
  },
  {
   "cell_type": "code",
   "execution_count": 53,
   "metadata": {},
   "outputs": [
    {
     "name": "stdout",
     "output_type": "stream",
     "text": [
      "Confusion matrix (proportions) : \n",
      "[[0.9 0.  0.  0.  0.  0.  0.  0.1 0.  0.  0.  0. ]\n",
      " [0.  0.  0.  0.  0.  0.  0.4 0.6 0.  0.  0.  0. ]\n",
      " [0.5 0.  0.2 0.  0.  0.  0.2 0.  0.  0.  0.  0. ]\n",
      " [0.2 0.  0.  0.3 0.  0.  0.  0.2 0.  0.  0.1 0.1]\n",
      " [0.  0.  1.  0.  0.  0.  0.  0.  0.  0.  0.  0. ]\n",
      " [0.8 0.  0.  0.  0.  0.  0.  0.  0.  0.  0.  0.2]\n",
      " [0.1 0.  0.  0.1 0.  0.  0.7 0.  0.  0.  0.  0.1]\n",
      " [0.1 0.  0.  0.  0.  0.  0.  0.9 0.  0.  0.  0. ]\n",
      " [0.1 0.  0.  0.  0.  0.  0.1 0.1 0.5 0.  0.  0.2]\n",
      " [0.4 0.  0.  0.  0.  0.  0.  0.  0.  0.3 0.  0.3]\n",
      " [0.1 0.  0.  0.  0.  0.  0.2 0.4 0.  0.  0.  0.1]\n",
      " [0.2 0.  0.  0.  0.  0.  0.  0.3 0.  0.  0.  0.5]]\n",
      " \n"
     ]
    },
    {
     "data": {
      "image/png": "[encoded data removed]",
      "text/plain": [
       "<Figure size 432x288 with 2 Axes>"
      ]
     },
     "metadata": {
      "needs_background": "light"
     },
     "output_type": "display_data"
    }
   ],
   "source": [
    "print(\"Confusion matrix (proportions) : \")\n",
    "cm = np.round(confusion_matrix(y_test,y_pred_ad,normalize='true'),1)\n",
    "print(np.round(cm,2))\n",
    "print(' ')\n",
    "ConfusionMatrixDisplay(cm).plot()\n",
    "plt.show()"
   ]
  },
  {
   "cell_type": "code",
   "execution_count": 54,
   "metadata": {},
   "outputs": [
    {
     "name": "stdout",
     "output_type": "stream",
     "text": [
      "Score pour AdaBoost\n",
      "accuracy: 0.815\n",
      "precision 0.479\n",
      "recall 0.365\n",
      "f1 score 0.388\n"
     ]
    },
    {
     "name": "stderr",
     "output_type": "stream",
     "text": [
      "/home/kevin/anaconda3/lib/python3.8/site-packages/sklearn/metrics/_classification.py:1308: UndefinedMetricWarning: Precision is ill-defined and being set to 0.0 in labels with no predicted samples. Use `zero_division` parameter to control this behavior.\n",
      "  _warn_prf(average, modifier, msg_start, len(result))\n"
     ]
    }
   ],
   "source": [
    "print(\"Score pour AdaBoost\")\n",
    "print(\"accuracy:\", np.round(accuracy_score(y_test,y_pred_ad),3))\n",
    "print(\"precision\", np.round(precision_score(y_test,y_pred_ad, average = 'macro'),3))\n",
    "print(\"recall\", np.round(recall_score(y_test,y_pred_ad, average = 'macro'),3))\n",
    "print(\"f1 score\" , np.round(f1_score(y_test,y_pred_ad, average = 'macro'),3))"
   ]
  },
  {
   "cell_type": "markdown",
   "metadata": {},
   "source": [
    "# Gradient Boosting"
   ]
  },
  {
   "cell_type": "code",
   "execution_count": 62,
   "metadata": {},
   "outputs": [
    {
     "name": "stdout",
     "output_type": "stream",
     "text": [
      "Meilleur modèle\n",
      "GradientBoostingClassifier(criterion='squared_error', max_features=5,\n",
      "                           n_estimators=80)\n"
     ]
    }
   ],
   "source": [
    "param_grid = {'n_estimators':[30,50,60,80], \n",
    "             'learning_rate':[0.001,0.01, 0.1,1],\n",
    "             'criterion': ['friedman_mse', 'squared_error'],\n",
    "             'max_features': [5,10,15,20]}\n",
    "\n",
    "gb = GradientBoostingClassifier()\n",
    "search_gb= GridSearchCV(gb, \n",
    "                      param_grid, \n",
    "                      scoring=\"accuracy\",\n",
    "                      cv=cv,\n",
    "                      n_jobs=-1)\n",
    "search_gb.fit(X_train,y_train)\n",
    "print('Meilleur modèle')\n",
    "print(search_gb.best_estimator_)"
   ]
  },
  {
   "cell_type": "code",
   "execution_count": 66,
   "metadata": {},
   "outputs": [],
   "source": [
    "y_pred_gb = search_gb.best_estimator_.predict(X_test)"
   ]
  },
  {
   "cell_type": "code",
   "execution_count": 67,
   "metadata": {},
   "outputs": [
    {
     "name": "stdout",
     "output_type": "stream",
     "text": [
      "Confusion matrix (proportions) : \n",
      "[[0.8 0.  0.  0.  0.  0.  0.  0.2 0.  0.  0.  0. ]\n",
      " [0.8 0.  0.  0.  0.  0.  0.  0.2 0.  0.  0.  0. ]\n",
      " [0.8 0.  0.  0.  0.  0.  0.  0.2 0.  0.  0.  0. ]\n",
      " [1.  0.  0.  0.  0.  0.  0.  0.  0.  0.  0.  0. ]\n",
      " [1.  0.  0.  0.  0.  0.  0.  0.  0.  0.  0.  0. ]\n",
      " [1.  0.  0.  0.  0.  0.  0.  0.  0.  0.  0.  0. ]\n",
      " [0.9 0.  0.  0.  0.  0.  0.  0.1 0.  0.  0.  0. ]\n",
      " [0.3 0.  0.  0.  0.  0.  0.  0.7 0.  0.  0.  0. ]\n",
      " [1.  0.  0.  0.  0.  0.  0.  0.  0.  0.  0.  0. ]\n",
      " [1.  0.  0.  0.  0.  0.  0.  0.  0.  0.  0.  0. ]\n",
      " [0.9 0.  0.  0.  0.  0.  0.  0.1 0.  0.  0.  0. ]\n",
      " [1.  0.  0.  0.  0.  0.  0.  0.  0.  0.  0.  0. ]]\n",
      " \n"
     ]
    },
    {
     "data": {
      "image/png": "[encoded data removed]",
      "text/plain": [
       "<Figure size 432x288 with 2 Axes>"
      ]
     },
     "metadata": {
      "needs_background": "light"
     },
     "output_type": "display_data"
    }
   ],
   "source": [
    "print(\"Confusion matrix (proportions) : \")\n",
    "cm = np.round(confusion_matrix(y_test,y_pred_gb,normalize='true'),1)\n",
    "print(np.round(cm,2))\n",
    "print(' ')\n",
    "ConfusionMatrixDisplay(cm).plot()\n",
    "plt.show()"
   ]
  },
  {
   "cell_type": "code",
   "execution_count": 68,
   "metadata": {},
   "outputs": [
    {
     "name": "stdout",
     "output_type": "stream",
     "text": [
      "Score pour Gradient boost\n",
      "accuracy: 0.58\n",
      "precision 0.102\n",
      "recall 0.124\n",
      "f1 score 0.106\n"
     ]
    },
    {
     "name": "stderr",
     "output_type": "stream",
     "text": [
      "/home/kevin/anaconda3/lib/python3.8/site-packages/sklearn/metrics/_classification.py:1308: UndefinedMetricWarning: Precision is ill-defined and being set to 0.0 in labels with no predicted samples. Use `zero_division` parameter to control this behavior.\n",
      "  _warn_prf(average, modifier, msg_start, len(result))\n"
     ]
    }
   ],
   "source": [
    "print(\"Score pour Gradient boost\")\n",
    "print(\"accuracy:\", np.round(accuracy_score(y_test,y_pred_gb),3))\n",
    "print(\"precision\", np.round(precision_score(y_test,y_pred_gb, average = 'macro'),3))\n",
    "print(\"recall\", np.round(recall_score(y_test,y_pred_gb, average = 'macro'),3))\n",
    "print(\"f1 score\" , np.round(f1_score(y_test,y_pred_gb, average = 'macro'),3))"
   ]
  },
  {
   "cell_type": "markdown",
   "metadata": {},
   "source": [
    "# Tableau de comparaison"
   ]
  },
  {
   "cell_type": "markdown",
   "metadata": {},
   "source": [
    "| Méthode| accuracy | precision | recall | F1- score|\n",
    "| :-: | :-:  | :-: |  :-: |  :-: |\n",
    "| KNeighbors | 0.802 | 0.51 | 0.396 | 0.423|\n",
    "| Decision tree | 0.775 | 0.375 |0.38|0.369|\n",
    "| Random forest | 0.833 | 0.473 |0.388|0.413|\n",
    "| Adaboost | 0.815 | 0.479 |0.365|0.388|\n",
    "| Gradient boost | 0.844 | 0.456 | 0.418 | 0.426 | "
   ]
  },
  {
   "cell_type": "code",
   "execution_count": null,
   "metadata": {},
   "outputs": [],
   "source": []
  }
 ],
 "metadata": {
  "kernelspec": {
   "display_name": "Python 3 (ipykernel)",
   "language": "python",
   "name": "python3"
  },
  "language_info": {
   "codemirror_mode": {
    "name": "ipython",
    "version": 3
   },
   "file_extension": ".py",
   "mimetype": "text/x-python",
   "name": "python",
   "nbconvert_exporter": "python",
   "pygments_lexer": "ipython3",
   "version": "3.8.8"
  }
 },
 "nbformat": 4,
 "nbformat_minor": 4
}
